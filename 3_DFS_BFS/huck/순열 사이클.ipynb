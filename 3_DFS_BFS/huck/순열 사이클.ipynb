{
 "cells": [
  {
   "cell_type": "code",
   "execution_count": null,
   "metadata": {},
   "outputs": [],
   "source": [
    "T = int(input())\n",
    "\n",
    "def DFS(idx):\n",
    "    visited[idx]=True\n",
    "    next_idx = nlist[idx]\n",
    "    if not visited[next_idx]:\n",
    "        DFS(next_idx)\n",
    "\n",
    "for _ in range(T):\n",
    "    N = int(input())\n",
    "    nlist = [0]+list(map(int, input().split()))\n",
    "    result = 0\n",
    "    visited = [True] + [False for _ in range(N)]\n",
    "\n",
    "    for i in range(1,N+1):\n",
    "        if not visited[i]:\n",
    "            DFS(i)\n",
    "            result += 1\n",
    "    print(result)"
   ]
  }
 ],
 "metadata": {
  "kernelspec": {
   "display_name": "Python 3",
   "language": "python",
   "name": "python3"
  },
  "language_info": {
   "name": "python",
   "version": "3.10.2"
  }
 },
 "nbformat": 4,
 "nbformat_minor": 2
}
