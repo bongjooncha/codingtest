{
 "cells": [
  {
   "cell_type": "code",
   "execution_count": null,
   "metadata": {},
   "outputs": [],
   "source": [
    "from itertools import combinations\n",
    "import copy\n",
    "import sys\n",
    "sys.setrecursionlimit(10**6)\n",
    "\n",
    "N, M = map(int, input().split())\n",
    "graph = [list(map(int, input().split())) for _ in range(N)]\n",
    "\n",
    "dx = [1, -1, 0, 0]\n",
    "dy = [0, 0, 1, -1]\n",
    "\n",
    "def DFS(x, y, lab_copy):\n",
    "    stack = [(x, y)]\n",
    "    while stack:\n",
    "        cx, cy = stack.pop()\n",
    "        for i in range(4):\n",
    "            nx, ny = cx + dx[i], cy + dy[i]\n",
    "            if 0 <= nx < N and 0 <= ny < M and lab_copy[nx][ny] == 0:\n",
    "                lab_copy[nx][ny] = 2\n",
    "                stack.append((nx, ny))\n",
    "\n",
    "# 안전 영역의 크기를 계산하는 함수\n",
    "def get_safe_area(lab):\n",
    "    # 초기 바이러스 위치 찾기\n",
    "    virus_positions = [(i, j) for i in range(N) for j in range(M) if lab[i][j] == 2]\n",
    "\n",
    "    # 벽을 배치하고 안전 영역을 계산\n",
    "    max_safe_area = 0\n",
    "    empty_positions = [(i, j) for i in range(N) for j in range(M) if lab[i][j] == 0]\n",
    "\n",
    "    for walls in combinations(empty_positions, 3):\n",
    "        lab_copy = copy.deepcopy(lab)\n",
    "        for wx, wy in walls:\n",
    "            lab_copy[wx][wy] = 1\n",
    "        \n",
    "        for vx, vy in virus_positions:\n",
    "            DFS(vx, vy, lab_copy)\n",
    "        \n",
    "        safe_area = sum(row.count(0) for row in lab_copy)\n",
    "        max_safe_area = max(max_safe_area, safe_area)\n",
    "\n",
    "    return max_safe_area\n",
    "\n",
    "# 최대 안전 영역 계산\n",
    "max_safe_area = get_safe_area(graph)\n",
    "print(max_safe_area)"
   ]
  }
 ],
 "metadata": {
  "language_info": {
   "name": "python"
  }
 },
 "nbformat": 4,
 "nbformat_minor": 2
}
