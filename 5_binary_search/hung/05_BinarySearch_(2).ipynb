{
  "nbformat": 4,
  "nbformat_minor": 0,
  "metadata": {
    "colab": {
      "provenance": [],
      "authorship_tag": "ABX9TyO7xVIRyCVV3HSr4B0R9UKc",
      "include_colab_link": true
    },
    "kernelspec": {
      "name": "python3",
      "display_name": "Python 3"
    },
    "language_info": {
      "name": "python"
    }
  },
  "cells": [
    {
      "cell_type": "markdown",
      "metadata": {
        "id": "view-in-github",
        "colab_type": "text"
      },
      "source": [
        "<a href=\"https://colab.research.google.com/github/bongjooncha/codingtest/blob/master/5_binary_search/hung/05_BinarySearch_(2).ipynb\" target=\"_parent\"><img src=\"https://colab.research.google.com/assets/colab-badge.svg\" alt=\"Open In Colab\"/></a>"
      ]
    },
    {
      "cell_type": "markdown",
      "source": [
        "## Q1 백준 1072 번"
      ],
      "metadata": {
        "id": "9VjDzUUVfvFa"
      }
    },
    {
      "cell_type": "code",
      "source": [
        "x, y = map(int, input().split())\n",
        "z = (y * 100) // x\n",
        "\n",
        "# 승률이 100%일 때는 더 이상 승률을 변화시킬 수 없으므로 -1 출력\n",
        "if z >= 99:\n",
        "    print(-1)\n",
        "else:\n",
        "    # 이분 탐색으로 최소 게임 수 찾기\n",
        "    left, right = 0, 1000000000  # 게임 횟수의 최대 범위 설정\n",
        "    while left < right:\n",
        "        mid = (left + right) // 2\n",
        "        new_z = ((y + mid) * 100) // (x + mid)\n",
        "        if new_z > z:\n",
        "            right = mid\n",
        "        else:\n",
        "            left = mid + 1\n",
        "    print(left)"
      ],
      "metadata": {
        "colab": {
          "base_uri": "https://localhost:8080/"
        },
        "id": "bshbCvStjpi-",
        "outputId": "0e7d4773-5893-4451-e3cd-3dcb2d4b3aab"
      },
      "execution_count": 1,
      "outputs": [
        {
          "output_type": "stream",
          "name": "stdout",
          "text": [
            "10 8\n",
            "1\n"
          ]
        }
      ]
    },
    {
      "cell_type": "code",
      "execution_count": 20,
      "metadata": {
        "colab": {
          "base_uri": "https://localhost:8080/"
        },
        "id": "RGf4Hi8tfj5E",
        "outputId": "63e2c299-1dc0-4e0e-f0fd-36b5b9df85db"
      },
      "outputs": [
        {
          "output_type": "stream",
          "name": "stdout",
          "text": [
            "10 8\n",
            "-1\n"
          ]
        }
      ],
      "source": [
        "arr = input().split()\n",
        "x = int(arr[0])\n",
        "y = int(arr[1])\n",
        "target_z = (y*100) / 100\n",
        "# z는 걍 내가 임의로 검사해볼 값\n",
        "count = 0\n",
        "def targeting(x,y,tar_z,count):\n",
        "  z = (y+1)*100/(x+1)\n",
        "  if z == tar_z :\n",
        "    count += 1\n",
        "    return targeting(x+2,y+2,tar_z,count) # 루프 한번 더 돌고\n",
        "  else:\n",
        "    return count # 최종으론 count 개수를 반환\n",
        "\n",
        "if targeting(x,y,target_z,count) == 0:\n",
        "  print(-1)\n",
        "else :\n",
        "  print(count)"
      ]
    },
    {
      "cell_type": "markdown",
      "source": [
        "## 백준 23326 번\n"
      ],
      "metadata": {
        "id": "a6dbrJ5EwD1r"
      }
    },
    {
      "cell_type": "code",
      "source": [
        "from sys import stdin, stdout\n",
        "\n",
        "input = stdin.read\n",
        "def solve():\n",
        "    data = input().split()\n",
        "    N = int(data[0])\n",
        "    Q = int(data[1])\n",
        "    A = list(map(int, data[2:2+N]))\n",
        "    queries = data[2+N:]\n",
        "\n",
        "    pos = 0  # 도현이의 현재 위치\n",
        "    sights = set()  # 명소 위치를 저장하는 set\n",
        "\n",
        "    # 초기 명소들을 관리\n",
        "    for i in range(N):\n",
        "        if A[i] == 1:\n",
        "            sights.add(i)\n",
        "\n",
        "    output = []\n",
        "    idx = 0\n",
        "    for q in queries:\n",
        "        if q == '1':\n",
        "            i = int(queries[idx + 1]) - 1\n",
        "            idx += 2\n",
        "            if A[i] == 0:\n",
        "                A[i] = 1\n",
        "                sights.add(i)\n",
        "            else:\n",
        "                A[i] = 0\n",
        "                sights.remove(i)\n",
        "        elif q == '2':\n",
        "            x = int(queries[idx + 1])\n",
        "            idx += 2\n",
        "            pos = (pos + x) % N\n",
        "        elif q == '3':\n",
        "            idx += 1\n",
        "            if not sights:\n",
        "                output.append(\"-1\")\n",
        "            else:\n",
        "                # 최소 이동 거리 찾기\n",
        "                min_moves = float('inf')\n",
        "                for sight in sights:\n",
        "                    # 시계 방향으로 움직인 최소 거리 계산\n",
        "                    moves = (sight - pos) % N\n",
        "                    if moves < min_moves:\n",
        "                        min_moves = moves\n",
        "                output.append(str(min_moves))\n",
        "\n",
        "    stdout.write(\"\\n\".join(output) + \"\\n\")\n",
        "\n",
        "solve()\n"
      ],
      "metadata": {
        "id": "di45ycNpv4mB"
      },
      "execution_count": null,
      "outputs": []
    }
  ]
}