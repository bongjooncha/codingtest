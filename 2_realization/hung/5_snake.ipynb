from collections import deque

def update_position(direction, current_position):
    directions = [(0, 1), (1, 0), (0, -1), (-1, 0)]
    new_position = (current_position[0] + directions[direction][0], current_position[1] + directions[direction][1])
    return new_position

def change_direction(current_direction, C):
    if C == 'L':
        return (current_direction - 1) % 4
    else:
        return (current_direction + 1) % 4

def game_loop(n, k, apple_positions, l, moves):
    snake = deque([(0, 0)])
    direction = 0
    time = 0
    apple_set = set((x[0]-1, x[1]-1) for x in apple_positions)
    move_index = 0  # 현재 방향 전환 정보의 인덱스

    while True:
        time += 1
        new_head = update_position(direction, snake[0])

        if new_head[0] < 0 or new_head[0] >= n or new_head[1] < 0 or new_head[1] >= n or new_head in snake:
            return time

        snake.appendleft(new_head)

        if new_head in apple_set:
            apple_set.remove(new_head)
        else:
            snake.pop()

        if move_index < len(moves) and time == moves[move_index][0]:
            direction = change_direction(direction, moves[move_index][1])
            move_index += 1

# 입력 받기
n = int(input())
k = int(input())
apple_positions = [list(map(int, input().split())) for _ in range(k)]
l = int(input())
moves = [input().split() for _ in range(l)]
moves = [(int(x[0]), x[1]) for x in moves]

# 게임 시작
print(game_loop(n, k, apple_positions, l, moves))
