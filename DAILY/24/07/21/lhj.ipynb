{
 "cells": [
  {
   "cell_type": "code",
   "execution_count": null,
   "metadata": {},
   "outputs": [],
   "source": [
    "import sys\n",
    "sys.setrecursionlimit(10**6)\n",
    "input = sys.stdin.readline\n",
    "\n",
    "T = int(input())\n",
    "\n",
    "dx = [1,-1,0,0]\n",
    "dy = [0,0,1,-1]\n",
    "\n",
    "def DFS(x,y):\n",
    "    for i in range(4):\n",
    "        newx = x+dx[i]\n",
    "        newy = y+dy[i]\n",
    "        \n",
    "        if 0<=newx<N and 0<=newy<M and field[newx][newy]==1:\n",
    "            field[newx][newy] = 2\n",
    "            DFS(newx, newy)\n",
    "            return True\n",
    "        else:\n",
    "            return False\n",
    "        \n",
    "\n",
    "for t in range(T):\n",
    "    M, N, K = map(int, input().split())\n",
    "    field = [[0]*M for _ in range(N)]\n",
    "    cnt = 0\n",
    "    x,y = 0,0\n",
    "\n",
    "    for _ in range(K):\n",
    "        b,a = map(int, input().split())\n",
    "        field[a][b] = 1\n",
    "\n",
    "    for n in range(N):\n",
    "        for m in range(M):\n",
    "            if field[n][m] == 1:\n",
    "                field[n][m] = 2\n",
    "                if DFS(n,m):\n",
    "                    cnt += 1\n",
    "    print(cnt)\n",
    "\n"
   ]
  }
 ],
 "metadata": {
  "kernelspec": {
   "display_name": "Python 3",
   "language": "python",
   "name": "python3"
  },
  "language_info": {
   "name": "python",
   "version": "3.10.2"
  }
 },
 "nbformat": 4,
 "nbformat_minor": 2
}
