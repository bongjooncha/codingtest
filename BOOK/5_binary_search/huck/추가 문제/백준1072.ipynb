{
 "cells": [
  {
   "cell_type": "code",
   "execution_count": 14,
   "metadata": {},
   "outputs": [],
   "source": [
    "import sys\n",
    "input = sys.stdin.readline\n",
    "\n",
    "X,Y = map(int, input().split())"
   ]
  },
  {
   "cell_type": "code",
   "execution_count": 35,
   "metadata": {},
   "outputs": [
    {
     "name": "stdout",
     "output_type": "stream",
     "text": [
      "19230770\n"
     ]
    }
   ],
   "source": [
    "# 게임을 최소 몇 판 더 해야하는지 출력한다. 만약 Z가 절대 변하지 않는다면 -1을 출력\n",
    "Z = (Y * 100) // X\n",
    "\n",
    "start, end = 1, 1_000_000_000\n",
    "result = -1\n",
    "\n",
    "while start <= end:\n",
    "    mid = (start+end)//2\n",
    "    newZ = ((Y + mid) * 100) // (X + mid)\n",
    "\n",
    "    if newZ > Z:\n",
    "        result = mid\n",
    "        end = mid - 1\n",
    "    elif newZ == Z:\n",
    "        start = mid + 1\n",
    "\n",
    "print(result)"
   ]
  }
 ],
 "metadata": {
  "kernelspec": {
   "display_name": "Python 3",
   "language": "python",
   "name": "python3"
  },
  "language_info": {
   "codemirror_mode": {
    "name": "ipython",
    "version": 3
   },
   "file_extension": ".py",
   "mimetype": "text/x-python",
   "name": "python",
   "nbconvert_exporter": "python",
   "pygments_lexer": "ipython3",
   "version": "3.10.2"
  }
 },
 "nbformat": 4,
 "nbformat_minor": 2
}
