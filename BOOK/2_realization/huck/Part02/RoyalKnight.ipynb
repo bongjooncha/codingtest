{
 "cells": [
  {
   "cell_type": "code",
   "execution_count": null,
   "metadata": {},
   "outputs": [],
   "source": [
    "pos = input()\n",
    "# x축 이동 col / y축 이동 row\n",
    "col = int(ord(pos[0])-96)\n",
    "row = int(pos[1])\n",
    "\n",
    "result = 0      # counting\n",
    "\n",
    "# 이동 가능한 경우\n",
    "case = [(2,1), (2,-1), (-2, 1), (-2,-1), \n",
    "        (1,2), (1,-2), (-1, 2), (-1, -2)]\n",
    "\n",
    "for c in case:\n",
    "    # 초기화\n",
    "    next_col = col\n",
    "    next_row =  row\n",
    "    # 좌표 이동\n",
    "    next_col += c[0]\n",
    "    next_row += c[1]\n",
    "\n",
    "    # 체스판 안에 있으면 counting\n",
    "    if next_col < 9 and next_col > 0 and next_row < 9 and next_row > 0:\n",
    "        result += 1\n",
    "    \n",
    "print(result)"
   ]
  }
 ],
 "metadata": {
  "language_info": {
   "name": "python"
  }
 },
 "nbformat": 4,
 "nbformat_minor": 2
}
