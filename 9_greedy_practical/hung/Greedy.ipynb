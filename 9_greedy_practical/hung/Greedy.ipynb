{
  "nbformat": 4,
  "nbformat_minor": 0,
  "metadata": {
    "colab": {
      "provenance": [],
      "authorship_tag": "ABX9TyP77Zlndm/dS3/LiazfG6ZT",
      "include_colab_link": true
    },
    "kernelspec": {
      "name": "python3",
      "display_name": "Python 3"
    },
    "language_info": {
      "name": "python"
    }
  },
  "cells": [
    {
      "cell_type": "markdown",
      "metadata": {
        "id": "view-in-github",
        "colab_type": "text"
      },
      "source": [
        "<a href=\"https://colab.research.google.com/github/bongjooncha/codingtest/blob/master/9_greedy_practical/hung/Greedy.ipynb\" target=\"_parent\"><img src=\"https://colab.research.google.com/assets/colab-badge.svg\" alt=\"Open In Colab\"/></a>"
      ]
    },
    {
      "cell_type": "markdown",
      "source": [
        "## 백준 Yonsei"
      ],
      "metadata": {
        "id": "WcmOUjjAuhzR"
      }
    },
    {
      "cell_type": "code",
      "execution_count": null,
      "metadata": {
        "id": "lnOHMdEMufIu"
      },
      "outputs": [],
      "source": [
        "n,m = map(int,input().split())\n",
        "count = 0\n",
        "while n > -1:\n",
        "  p , j = map(int, input().split())\n",
        "  arr = list(map(int,input().split()))\n",
        "  arr.sort()\n",
        "  if (m - arr[-4]) >= 0:\n",
        "    count += 1\n",
        "    m -= arr[-4]\n",
        "  else:\n",
        "    break\n",
        "  n -= 1\n",
        "\n",
        "print(count)\n",
        "\n"
      ]
    }
  ]
}