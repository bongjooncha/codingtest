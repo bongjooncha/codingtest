{
 "cells": [
  {
   "cell_type": "markdown",
   "metadata": {},
   "source": [
    "### 부품 찾기"
   ]
  },
  {
   "cell_type": "code",
   "execution_count": 20,
   "metadata": {},
   "outputs": [],
   "source": [
    "# 각 부품이 존재하면 yes, 없으면 no 공백으로 구분\n",
    "def solution(N,n_list, M,m_list):\n",
    "    def Bsearch(start, end, target, array):\n",
    "        if start > end:\n",
    "            return None\n",
    "        \n",
    "        mid = (start+end)//2\n",
    "        if array[mid] > target:\n",
    "            return Bsearch(start, mid-1, target, array)\n",
    "        if array[mid] < target:\n",
    "            return Bsearch(mid+1, end, target, array)\n",
    "        if array[mid] == target:\n",
    "            return mid\n",
    "    \n",
    "    n_list.sort()\n",
    "\n",
    "    for m in m_list:\n",
    "        result = Bsearch(0, N-1, m, n_list)\n",
    "        if result is not None:\n",
    "            print('yes', end=' ')\n",
    "        else:\n",
    "            print('no', end=' ')"
   ]
  },
  {
   "cell_type": "code",
   "execution_count": 21,
   "metadata": {},
   "outputs": [],
   "source": [
    "N=5\n",
    "n_list = [8,3,7,9,2]\n",
    "M=3\n",
    "m_list = [5,7,9]"
   ]
  },
  {
   "cell_type": "code",
   "execution_count": 22,
   "metadata": {},
   "outputs": [
    {
     "name": "stdout",
     "output_type": "stream",
     "text": [
      "no yes yes "
     ]
    }
   ],
   "source": [
    "solution(N,n_list, M,m_list)"
   ]
  },
  {
   "cell_type": "markdown",
   "metadata": {},
   "source": [
    "### 떡볶이 떡 만들기"
   ]
  },
  {
   "cell_type": "code",
   "execution_count": 47,
   "metadata": {},
   "outputs": [],
   "source": [
    "N,M = map(int, input().split(\" \"))\n",
    "r_list = list(map(int, input().split()))"
   ]
  },
  {
   "cell_type": "code",
   "execution_count": 50,
   "metadata": {},
   "outputs": [],
   "source": [
    "def solution_ricecake(N, M, r_list):\n",
    "    end = max(r_list)\n",
    "    start = 0\n",
    "    result = 0\n",
    "\n",
    "    while (start <= end):\n",
    "        mid = (start+end)//2\n",
    "        total = 0\n",
    "        \n",
    "        for r in r_list:\n",
    "            if r - mid > 0:\n",
    "                total += r-mid\n",
    "\n",
    "        if total >= M:\n",
    "            result = mid\n",
    "            start = mid+1\n",
    "\n",
    "        if total < M:\n",
    "            end = mid-1\n",
    "    return result\n"
   ]
  },
  {
   "cell_type": "code",
   "execution_count": 51,
   "metadata": {},
   "outputs": [
    {
     "name": "stdout",
     "output_type": "stream",
     "text": [
      "15\n"
     ]
    }
   ],
   "source": [
    "print(solution_ricecake(N, M, r_list))"
   ]
  }
 ],
 "metadata": {
  "kernelspec": {
   "display_name": "Python 3",
   "language": "python",
   "name": "python3"
  },
  "language_info": {
   "codemirror_mode": {
    "name": "ipython",
    "version": 3
   },
   "file_extension": ".py",
   "mimetype": "text/x-python",
   "name": "python",
   "nbconvert_exporter": "python",
   "pygments_lexer": "ipython3",
   "version": "3.10.2"
  }
 },
 "nbformat": 4,
 "nbformat_minor": 2
}
