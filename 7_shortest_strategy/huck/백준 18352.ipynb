{
 "cells": [
  {
   "cell_type": "code",
   "execution_count": 2,
   "metadata": {},
   "outputs": [
    {
     "name": "stdout",
     "output_type": "stream",
     "text": [
      "4\n"
     ]
    }
   ],
   "source": [
    "import heapq\n",
    "\n",
    "INF = int(1e9)\n",
    "\n",
    "n, m, k, x = map(int, input().split())\n",
    "# road = [map(int, input().split()) for _ in range(m+1)]\n",
    "road = [[] for _ in range(n+1)]\n",
    "\n",
    "distance = [INF] * (n+1)\n",
    "\n",
    "def dijkstra(start):\n",
    "    for _ in range(m):\n",
    "        x, y = map(int, input().split())\n",
    "        road[x].append(y)\n",
    "\n",
    "    q = []\n",
    "    # 시작 노드로 가기 위한 최단 경로는 0으로 설정하여, 큐에 (거리, 도시) 삽입\n",
    "    heapq.heappush(q, (0, start))\n",
    "    distance[start] = 0\n",
    "\n",
    "    while q: # 큐가 비어있지 않다면\n",
    "        # 최단 거리가 가장 짧은 노드에 대한 정보 꺼내기\n",
    "        curr_dist, curr_city = heapq.heappop(q)\n",
    "        # 현재 노드가 이미 처리된 적이 있는 노드라면 무시\n",
    "        if distance[curr_city] < curr_dist:\n",
    "            continue\n",
    "\n",
    "        # 현재 노드와 연결된 다른 인접한 노드들을 확인\n",
    "        for next_city in road[curr_city]:\n",
    "            # 모든 도로 거리 = 1\n",
    "            cost = curr_dist + 1\n",
    "            # 현재 노드를 거쳐서, 다른 노드로 이동하는 거리가 더 짧은 경우\n",
    "            if cost < distance[next_city]:\n",
    "                distance[next_city] = cost\n",
    "                heapq.heappush(q, (cost, next_city))\n",
    "\n",
    "    # 거리 K인 모든 도시 찾기\n",
    "    result = [i for i in range(1, n + 1) if distance[i] == k]\n",
    "    \n",
    "    return result if result else [-1]\n",
    "\n",
    "# 다익스트라 알고리즘을 수행\n",
    "for city in sorted(dijkstra(x)):\n",
    "    print(city)"
   ]
  }
 ],
 "metadata": {
  "kernelspec": {
   "display_name": "Python 3",
   "language": "python",
   "name": "python3"
  },
  "language_info": {
   "codemirror_mode": {
    "name": "ipython",
    "version": 3
   },
   "file_extension": ".py",
   "mimetype": "text/x-python",
   "name": "python",
   "nbconvert_exporter": "python",
   "pygments_lexer": "ipython3",
   "version": "3.10.2"
  }
 },
 "nbformat": 4,
 "nbformat_minor": 2
}
