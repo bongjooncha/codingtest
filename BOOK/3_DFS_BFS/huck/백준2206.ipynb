{
 "cells": [
  {
   "cell_type": "markdown",
   "metadata": {},
   "source": [
    "가중치가 없는 최단 경로는 무조건 BFS"
   ]
  },
  {
   "cell_type": "code",
   "execution_count": null,
   "metadata": {},
   "outputs": [],
   "source": [
    "from collections import deque\n",
    "\n",
    "N,M = map(int, input().split())\n",
    "map = [list(map(int, input())) for _ in range(N)]\n",
    "\n",
    "que = deque()\n",
    "que.append((0,0))\n",
    "\n",
    "dy = [0,0,1,-1]\n",
    "dx = [1,-1,0,0]\n",
    "\n",
    "\n",
    "\n",
    "def BFS():\n",
    "    while que:\n",
    "        x,y = que.popleft()\n",
    "\n",
    "        for i in range(4):\n",
    "            cnt_range = 0\n",
    "            cnt = 0\n",
    "\n",
    "            n_x = x+dx[i]\n",
    "            n_y = y+dy[i]\n",
    "            \n",
    "            if n_x<0 or n_x>=N or n_y<0 or n_y>=M:\n",
    "                cnt_range += 1\n",
    "                continue\n",
    "            if map[n_x][n_y] == 0:\n",
    "                que.append((n_x, n_y))\n",
    "                map[n_x][n_y] = map[x][y] + 1\n",
    "            if map[n_x][n_y] == 1:\n",
    "                continue\n"
   ]
  }
 ],
 "metadata": {
  "kernelspec": {
   "display_name": "Python 3",
   "language": "python",
   "name": "python3"
  },
  "language_info": {
   "name": "python",
   "version": "3.10.2"
  }
 },
 "nbformat": 4,
 "nbformat_minor": 2
}
