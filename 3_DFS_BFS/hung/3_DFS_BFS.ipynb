{
  "nbformat": 4,
  "nbformat_minor": 0,
  "metadata": {
    "colab": {
      "provenance": []
    },
    "kernelspec": {
      "name": "python3",
      "display_name": "Python 3"
    },
    "language_info": {
      "name": "python"
    }
  },
  "cells": [
    {
      "cell_type": "markdown",
      "source": [
        "## 백준 숨바꼭질\n",
        "1697"
      ],
      "metadata": {
        "id": "bD9qnD7L8kZT"
      }
    },
    {
      "cell_type": "code",
      "execution_count": null,
      "metadata": {
        "colab": {
          "base_uri": "https://localhost:8080/"
        },
        "id": "-QpqIABX8fEt",
        "outputId": "a8e7da9b-759b-4d6d-dec8-ac8895db40eb"
      },
      "outputs": [
        {
          "output_type": "stream",
          "name": "stdout",
          "text": [
            "5 17\n",
            "4\n"
          ]
        }
      ],
      "source": [
        "from collections import deque\n",
        "\n",
        "def bfs(N, K):\n",
        "    # 각 위치에 도달하는 데 걸리는 시간을 저장할 배열\n",
        "    time = [0] * 100001  # 주어진 조건에 따라 최대 범위 설정\n",
        "    q = deque([N])\n",
        "\n",
        "    while q:\n",
        "        v = q.popleft()\n",
        "        if v == K:  # 동생을 찾은 경우\n",
        "            return time[v]\n",
        "        for next_step in (v-1, v+1, v*2):  # 걷기(뒤로/앞으로) 및 순간이동\n",
        "            if 0 <= next_step <= 100000 and not time[next_step]:  # 방문하지 않은 위치\n",
        "                time[next_step] = time[v] + 1\n",
        "                q.append(next_step)\n",
        "\n",
        "# 입력\n",
        "N, K = map(int, input().split())\n",
        "print(bfs(N, K))"
      ]
    },
    {
      "cell_type": "code",
      "source": [
        "x = [0] * 10001\n",
        "if not x:\n",
        "    print(\"This is true.\")\n",
        "elif x:\n",
        "  print(\"1\")"
      ],
      "metadata": {
        "colab": {
          "base_uri": "https://localhost:8080/"
        },
        "id": "Y6_LvpPi8zQT",
        "outputId": "79de09db-da7f-4dc2-eece-a8ee86502d5c"
      },
      "execution_count": null,
      "outputs": [
        {
          "output_type": "stream",
          "name": "stdout",
          "text": [
            "1\n"
          ]
        }
      ]
    },
    {
      "cell_type": "code",
      "source": [
        "from collections import deque\n",
        "\n",
        "N = 5\n",
        "q = deque([N])\n",
        "\n",
        "print(q)\n"
      ],
      "metadata": {
        "colab": {
          "base_uri": "https://localhost:8080/"
        },
        "id": "odNcBZFVBR1r",
        "outputId": "006698c1-a859-492f-9849-e14bb9861727"
      },
      "execution_count": null,
      "outputs": [
        {
          "output_type": "stream",
          "name": "stdout",
          "text": [
            "deque([5])\n"
          ]
        }
      ]
    },
    {
      "cell_type": "markdown",
      "source": [
        "## 백준 5014\n",
        "실버 1"
      ],
      "metadata": {
        "id": "N1AiBTdUHLC1"
      }
    },
    {
      "cell_type": "code",
      "source": [
        "from collections import deque\n",
        "F,S,G,U,D  = map(int, input().split())\n",
        "def bfs(F,S,G,U,D):\n",
        "  count  = [0] * (F + 1)\n",
        "  curr_loc_list =deque([S])\n",
        "  if (G - S)//(U-D) >=0:\n",
        "    while curr_loc_list:\n",
        "      x = curr_loc_list.popleft()\n",
        "      if x == G :\n",
        "        return count[x]\n",
        "      for i in (U,D):\n",
        "        count[x + i] = count[x] + 1\n",
        "        curr_loc_list.append(x + i)\n",
        "  else:\n",
        "    return \"use the stairs\"\n",
        "print(bfs(F,S,G,U,D))"
      ],
      "metadata": {
        "colab": {
          "base_uri": "https://localhost:8080/"
        },
        "id": "dzpYnRFP_sPY",
        "outputId": "d64110e0-654a-4615-d99f-395865d65ead"
      },
      "execution_count": null,
      "outputs": [
        {
          "output_type": "stream",
          "name": "stdout",
          "text": [
            "100 2 1 1 0\n",
            "use the stairs\n"
          ]
        }
      ]
    },
    {
      "cell_type": "markdown",
      "source": [
        "## 프로그래머스"
      ],
      "metadata": {
        "id": "wWGenwsbOMOr"
      }
    },
    {
      "cell_type": "code",
      "source": [
        "def solution(n, computers):\n",
        "    answer = 0\n",
        "    visited = [0 for i in range(n)]\n",
        "    def bfs(computers, visited, start):\n",
        "        stack = [start]\n",
        "        while stack:\n",
        "            j = stack.pop()\n",
        "            if visited[j] == 0:\n",
        "                visited[j] = 1\n",
        "            # for i in range(len(computers)-1, -1, -1):\n",
        "            for i in range(0, len(computers)):\n",
        "                if computers[j][i] ==1 and visited[i] == 0:\n",
        "                    stack.append(i)\n",
        "    i=0\n",
        "    while 0 in visited:\n",
        "        if visited[i] ==0:\n",
        "            bfs(computers, visited, i)\n",
        "            answer +=1\n",
        "        i+=1\n",
        "    return answer"
      ],
      "metadata": {
        "id": "VBq5NAZyHYYE"
      },
      "execution_count": 1,
      "outputs": []
    },
    {
      "cell_type": "markdown",
      "source": [
        "## 음료수 얼려먹기"
      ],
      "metadata": {
        "id": "vk5-kbEWPgOn"
      }
    },
    {
      "cell_type": "code",
      "source": [
        "# 얼음틀 데이터를 설정\n",
        "ice_frame = [\n",
        "    [0, 0, 1, 1, 0],\n",
        "    [0, 0, 0, 1, 1],\n",
        "    [1, 1, 1, 1, 1],\n",
        "    [0, 0, 0, 0, 0]\n",
        "]\n",
        "\n",
        "# NxM의 크기\n",
        "N = 4\n",
        "M = 5\n",
        "\n",
        "# DFS 함수 정의\n",
        "def dfs(x, y):\n",
        "    # 범위 설정\n",
        "    if x <= -1 or x >= N or y <= -1 or y >= M:\n",
        "        return False\n",
        "    # 현재 노드를 방문 여부\n",
        "    if ice_frame[x][y] == 0:\n",
        "        # 해당 노드 방문 처리\n",
        "        ice_frame[x][y] = 1\n",
        "        # 상,하,좌,우\n",
        "        dfs(x - 1, y)\n",
        "        dfs(x, y - 1)\n",
        "        dfs(x + 1, y)\n",
        "        dfs(x, y + 1)\n",
        "        return True\n",
        "    return False\n",
        "\n",
        "#\n",
        "result = 0\n",
        "for i in range(N):\n",
        "    for j in range(M):\n",
        "        if dfs(i, j) == True:\n",
        "            result += 1\n",
        "\n",
        "result"
      ],
      "metadata": {
        "colab": {
          "base_uri": "https://localhost:8080/"
        },
        "id": "Cv9cIEtWOTYb",
        "outputId": "d98c0cd5-49a6-4f5b-84f0-4b0860290652"
      },
      "execution_count": 2,
      "outputs": [
        {
          "output_type": "execute_result",
          "data": {
            "text/plain": [
              "3"
            ]
          },
          "metadata": {},
          "execution_count": 2
        }
      ]
    },
    {
      "cell_type": "code",
      "source": [],
      "metadata": {
        "id": "EeO2mfQJPuth"
      },
      "execution_count": null,
      "outputs": []
    }
  ]
}