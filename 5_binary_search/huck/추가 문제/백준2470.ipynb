{
 "cells": [
  {
   "cell_type": "code",
   "execution_count": null,
   "metadata": {},
   "outputs": [],
   "source": [
    "N = int(input())\n",
    "liquid = list(map(int, input().split()))"
   ]
  },
  {
   "cell_type": "code",
   "execution_count": null,
   "metadata": {},
   "outputs": [
    {
     "name": "stdout",
     "output_type": "stream",
     "text": [
      "-99 98\n"
     ]
    }
   ],
   "source": [
    "start = 0\n",
    "end = N-1\n",
    "liquid.sort()\n",
    "total = float('inf')        # 최솟값 저장\n",
    "result = [0 for _ in range(2)]                 # 최솟값일 때 start, end 저장\n",
    "\n",
    "while start < end:\n",
    "    mid = liquid[start] + liquid[end]\n",
    "    if total > abs(mid):\n",
    "        total = abs(mid)\n",
    "        result[0] = liquid[start]\n",
    "        result[1] = liquid[end]\n",
    "        if mid == 0:\n",
    "            break\n",
    "\n",
    "    elif mid < 0:\n",
    "        start += 1\n",
    "    elif mid > 0:\n",
    "        end -= 1\n",
    "\n",
    "print(\"{0} {1}\".format(result[0], result[1]))"
   ]
  }
 ],
 "metadata": {
  "language_info": {
   "name": "python"
  }
 },
 "nbformat": 4,
 "nbformat_minor": 2
}
