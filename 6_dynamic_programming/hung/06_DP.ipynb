{
  "nbformat": 4,
  "nbformat_minor": 0,
  "metadata": {
    "colab": {
      "provenance": [],
      "include_colab_link": true
    },
    "kernelspec": {
      "name": "python3",
      "display_name": "Python 3"
    },
    "language_info": {
      "name": "python"
    }
  },
  "cells": [
    {
      "cell_type": "markdown",
      "metadata": {
        "id": "view-in-github",
        "colab_type": "text"
      },
      "source": [
        "<a href=\"https://colab.research.google.com/github/bongjooncha/codingtest/blob/master/6_dynamic_programming/hung/06_DP.ipynb\" target=\"_parent\"><img src=\"https://colab.research.google.com/assets/colab-badge.svg\" alt=\"Open In Colab\"/></a>"
      ]
    },
    {
      "cell_type": "markdown",
      "source": [
        "## 백준 12865"
      ],
      "metadata": {
        "id": "MeUju6xyzTj-"
      }
    },
    {
      "cell_type": "code",
      "execution_count": null,
      "metadata": {
        "colab": {
          "base_uri": "https://localhost:8080/"
        },
        "id": "Ie3b0prSzPY6",
        "outputId": "5a7e95b1-e217-4ea9-aa19-eb903b12626c"
      },
      "outputs": [
        {
          "name": "stdout",
          "output_type": "stream",
          "text": [
            "4 7\n",
            "6 13\n",
            "4 5\n",
            "3 8\n",
            "2 9\n"
          ]
        },
        {
          "output_type": "execute_result",
          "data": {
            "text/plain": [
              "[[6, 13], [4, 5], [3, 8], [2, 9]]"
            ]
          },
          "metadata": {},
          "execution_count": 1
        }
      ],
      "source": [
        "def knapsack(N, K, items):\n",
        "    # 동적 계획법을 위한 DP 테이블 초기화\n",
        "    dp = [0] * (K + 1)\n",
        "\n",
        "    # 각 물건에 대해 무게와 가치를 추출하여 DP 테이블 갱신\n",
        "    for i in range(N):\n",
        "        weight, value = items[i]\n",
        "        # 무게를 역순으로 순회하면서 DP 테이블 갱신\n",
        "        for j in range(K, weight - 1, -1):\n",
        "            dp[j] = max(dp[j], dp[j - weight] + value)\n",
        "\n",
        "    return dp[K]\n",
        "\n",
        "# 입력 받기\n",
        "N, K = map(int, input().split())\n",
        "items = []\n",
        "for _ in range(N):\n",
        "    W, V = map(int, input().split())\n",
        "    items.append((W, V))\n",
        "\n",
        "# 함수 호출 및 결과 출력\n",
        "print(knapsack(N, K, items))"
      ]
    },
    {
      "cell_type": "code",
      "source": [],
      "metadata": {
        "id": "kvaGWMWz0Lhl"
      },
      "execution_count": null,
      "outputs": []
    }
  ]
}