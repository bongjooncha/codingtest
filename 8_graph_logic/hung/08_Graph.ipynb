{
  "nbformat": 4,
  "nbformat_minor": 0,
  "metadata": {
    "colab": {
      "provenance": [],
      "authorship_tag": "ABX9TyMXcrP7j2/Sr/eRmCUKLu6y",
      "include_colab_link": true
    },
    "kernelspec": {
      "name": "python3",
      "display_name": "Python 3"
    },
    "language_info": {
      "name": "python"
    }
  },
  "cells": [
    {
      "cell_type": "markdown",
      "metadata": {
        "id": "view-in-github",
        "colab_type": "text"
      },
      "source": [
        "<a href=\"https://colab.research.google.com/github/bongjooncha/codingtest/blob/master/8_graph_logic/hung/08_Graph.ipynb\" target=\"_parent\"><img src=\"https://colab.research.google.com/assets/colab-badge.svg\" alt=\"Open In Colab\"/></a>"
      ]
    },
    {
      "cell_type": "markdown",
      "source": [
        "## 팀 결성"
      ],
      "metadata": {
        "id": "RluSRSZyO5if"
      }
    },
    {
      "cell_type": "code",
      "execution_count": 1,
      "metadata": {
        "colab": {
          "base_uri": "https://localhost:8080/"
        },
        "id": "qsvJu-VSOxaL",
        "outputId": "d793014a-ec23-44ac-d1c4-a820ab4e06fa"
      },
      "outputs": [
        {
          "output_type": "stream",
          "name": "stdout",
          "text": [
            "7 8 \n",
            "0 1 3\n",
            "1 1 7\n",
            "NO\n",
            "0 7 6\n",
            "1 7 1\n",
            "NO\n",
            "0 3 7 \n",
            "0 4 2\n",
            "0 1 1 \n",
            "1 1 1\n",
            "YES\n",
            "[0, 1, 2, 1, 2, 5, 1, 6]\n"
          ]
        }
      ],
      "source": [
        "def find_parent(parent, x):\n",
        "    if parent[x] != x:\n",
        "        parent[x] = find_parent(parent, parent[x])\n",
        "    return parent[x]\n",
        "\n",
        "def union_parent(parent, a, b):\n",
        "    a = find_parent(parent, a)\n",
        "    b = find_parent(parent, b)\n",
        "    if a < b:\n",
        "        parent[b] = a\n",
        "    else:\n",
        "        parent[a] = b\n",
        "\n",
        "N, M = map(int, input().split())\n",
        "\n",
        "parent = [0] * (N + 1)\n",
        "\n",
        "for i in range(N + 1):\n",
        "    parent[i] = i\n",
        "\n",
        "for _ in range(M):\n",
        "    flag, a, b = map(int, input().split())\n",
        "    if flag == 0:\n",
        "        union_parent(parent, a, b)\n",
        "    else:\n",
        "        if find_parent(parent, a) == find_parent(parent, b):\n",
        "            print(\"YES\")\n",
        "        else:\n",
        "            print(\"NO\")\n",
        "print(parent)"
      ]
    },
    {
      "cell_type": "markdown",
      "source": [
        "## 도시 계획 분할"
      ],
      "metadata": {
        "id": "ilHA_WRmPIf3"
      }
    },
    {
      "cell_type": "code",
      "source": [
        "def find_parent(parent, x):\n",
        "    if parent[x] != x:\n",
        "        parent[x] = find_parent(parent, parent[x])\n",
        "    return parent[x]\n",
        "\n",
        "def union_parent(parent, a, b):\n",
        "    a = find_parent(parent, a)\n",
        "    b = find_parent(parent, b)\n",
        "    if a < b:\n",
        "        parent[b] = a\n",
        "    else:\n",
        "        parent[a] = b\n",
        "\n",
        "# N, M = map(int, input().split())\n",
        "N, M = 7, 12  # 예시 입력\n",
        "\n",
        "parent = [0] * (N + 1)\n",
        "\n",
        "for i in range(1, N + 1):\n",
        "    parent[i] = i\n",
        "\n",
        "edges = []\n",
        "result = 0\n",
        "\n",
        "# 예시 입력\n",
        "input_data = [\n",
        "    (3, 1, 2),\n",
        "    (2, 1, 3),\n",
        "    (4, 1, 4),\n",
        "    (6, 2, 4),\n",
        "    (5, 3, 4),\n",
        "    (7, 3, 5),\n",
        "    (8, 4, 5),\n",
        "    (1, 2, 6),\n",
        "    (2, 5, 6),\n",
        "    (4, 5, 7),\n",
        "    (3, 6, 7),\n",
        "    (5, 4, 7)\n",
        "]\n",
        "\n",
        "for data in input_data:\n",
        "    A, B, C = data\n",
        "    edges.append((C, A, B))\n",
        "\n",
        "edges.sort()\n",
        "# 유지 비용이 가장 큰 경로 없애서 마을 분리\n",
        "last = 0\n",
        "\n",
        "for edge in edges:\n",
        "    C, A, B = edge\n",
        "    if find_parent(parent, A) != find_parent(parent, B):\n",
        "        union_parent(parent, A, B)\n",
        "        result += C\n",
        "        last = C\n",
        "\n",
        "print(result - last)"
      ],
      "metadata": {
        "colab": {
          "base_uri": "https://localhost:8080/",
          "height": 341
        },
        "id": "kjMXBYH5O7cj",
        "outputId": "6958692b-5edb-4497-c008-7ee43a8abb5b"
      },
      "execution_count": 1,
      "outputs": [
        {
          "output_type": "error",
          "ename": "IndexError",
          "evalue": "list index out of range",
          "traceback": [
            "\u001b[0;31m---------------------------------------------------------------------------\u001b[0m",
            "\u001b[0;31mIndexError\u001b[0m                                Traceback (most recent call last)",
            "\u001b[0;32m<ipython-input-1-b7b068617ff9>\u001b[0m in \u001b[0;36m<cell line: 49>\u001b[0;34m()\u001b[0m\n\u001b[1;32m     49\u001b[0m \u001b[0;32mfor\u001b[0m \u001b[0medge\u001b[0m \u001b[0;32min\u001b[0m \u001b[0medges\u001b[0m\u001b[0;34m:\u001b[0m\u001b[0;34m\u001b[0m\u001b[0;34m\u001b[0m\u001b[0m\n\u001b[1;32m     50\u001b[0m     \u001b[0mC\u001b[0m\u001b[0;34m,\u001b[0m \u001b[0mA\u001b[0m\u001b[0;34m,\u001b[0m \u001b[0mB\u001b[0m \u001b[0;34m=\u001b[0m \u001b[0medge\u001b[0m\u001b[0;34m\u001b[0m\u001b[0;34m\u001b[0m\u001b[0m\n\u001b[0;32m---> 51\u001b[0;31m     \u001b[0;32mif\u001b[0m \u001b[0mfind_parent\u001b[0m\u001b[0;34m(\u001b[0m\u001b[0mparent\u001b[0m\u001b[0;34m,\u001b[0m \u001b[0mA\u001b[0m\u001b[0;34m)\u001b[0m \u001b[0;34m!=\u001b[0m \u001b[0mfind_parent\u001b[0m\u001b[0;34m(\u001b[0m\u001b[0mparent\u001b[0m\u001b[0;34m,\u001b[0m \u001b[0mB\u001b[0m\u001b[0;34m)\u001b[0m\u001b[0;34m:\u001b[0m\u001b[0;34m\u001b[0m\u001b[0;34m\u001b[0m\u001b[0m\n\u001b[0m\u001b[1;32m     52\u001b[0m         \u001b[0munion_parent\u001b[0m\u001b[0;34m(\u001b[0m\u001b[0mparent\u001b[0m\u001b[0;34m,\u001b[0m \u001b[0mA\u001b[0m\u001b[0;34m,\u001b[0m \u001b[0mB\u001b[0m\u001b[0;34m)\u001b[0m\u001b[0;34m\u001b[0m\u001b[0;34m\u001b[0m\u001b[0m\n\u001b[1;32m     53\u001b[0m         \u001b[0mresult\u001b[0m \u001b[0;34m+=\u001b[0m \u001b[0mC\u001b[0m\u001b[0;34m\u001b[0m\u001b[0;34m\u001b[0m\u001b[0m\n",
            "\u001b[0;32m<ipython-input-1-b7b068617ff9>\u001b[0m in \u001b[0;36mfind_parent\u001b[0;34m(parent, x)\u001b[0m\n\u001b[1;32m      1\u001b[0m \u001b[0;32mdef\u001b[0m \u001b[0mfind_parent\u001b[0m\u001b[0;34m(\u001b[0m\u001b[0mparent\u001b[0m\u001b[0;34m,\u001b[0m \u001b[0mx\u001b[0m\u001b[0;34m)\u001b[0m\u001b[0;34m:\u001b[0m\u001b[0;34m\u001b[0m\u001b[0;34m\u001b[0m\u001b[0m\n\u001b[0;32m----> 2\u001b[0;31m     \u001b[0;32mif\u001b[0m \u001b[0mparent\u001b[0m\u001b[0;34m[\u001b[0m\u001b[0mx\u001b[0m\u001b[0;34m]\u001b[0m \u001b[0;34m!=\u001b[0m \u001b[0mx\u001b[0m\u001b[0;34m:\u001b[0m\u001b[0;34m\u001b[0m\u001b[0;34m\u001b[0m\u001b[0m\n\u001b[0m\u001b[1;32m      3\u001b[0m         \u001b[0mparent\u001b[0m\u001b[0;34m[\u001b[0m\u001b[0mx\u001b[0m\u001b[0;34m]\u001b[0m \u001b[0;34m=\u001b[0m \u001b[0mfind_parent\u001b[0m\u001b[0;34m(\u001b[0m\u001b[0mparent\u001b[0m\u001b[0;34m,\u001b[0m \u001b[0mparent\u001b[0m\u001b[0;34m[\u001b[0m\u001b[0mx\u001b[0m\u001b[0;34m]\u001b[0m\u001b[0;34m)\u001b[0m\u001b[0;34m\u001b[0m\u001b[0;34m\u001b[0m\u001b[0m\n\u001b[1;32m      4\u001b[0m     \u001b[0;32mreturn\u001b[0m \u001b[0mparent\u001b[0m\u001b[0;34m[\u001b[0m\u001b[0mx\u001b[0m\u001b[0;34m]\u001b[0m\u001b[0;34m\u001b[0m\u001b[0;34m\u001b[0m\u001b[0m\n\u001b[1;32m      5\u001b[0m \u001b[0;34m\u001b[0m\u001b[0m\n",
            "\u001b[0;31mIndexError\u001b[0m: list index out of range"
          ]
        }
      ]
    },
    {
      "cell_type": "markdown",
      "source": [
        "## 커리큘렴"
      ],
      "metadata": {
        "id": "0_BAOi02P9uc"
      }
    },
    {
      "cell_type": "code",
      "source": [
        "from collections import deque\n",
        "\n",
        "n = int(input())\n",
        "\n",
        "# 강의의 강의 시간을 담는 리스트\n",
        "s_time = [0] * (n + 1)\n",
        "# 강의의 선수과목의 개수(진입 차수)를 담는 리스트\n",
        "indegree = [0] * (n + 1)\n",
        "# 강의들의 연결 정보를 담기 위한 리스트\n",
        "graph = [[] for _ in range(n + 1)]\n",
        "\n",
        "for i in range(1, n + 1):\n",
        "  # i번 강의의 강의 시간과 선수과목들, 그리고 -1을 입력받아서 임시리스트에 저장\n",
        "  tmp = list(map(int, input().split()))\n",
        "  # i번 강의의 강의 시간 저장\n",
        "  s_time[i] = tmp[0]\n",
        "  for j in range(1, len(tmp) - 1):\n",
        "    graph[tmp[j]].append(i)\n",
        "    # 해당 과목 진입차수 +1 (선수과목 개수 +1)\n",
        "    indegree[i] += 1\n",
        "\n",
        "q = deque()\n",
        "for i in range(1, n + 1):\n",
        "  # 진입 차수가 0인 강의를 큐에 넣기\n",
        "  if indegree[i] == 0:\n",
        "    q.append(i)\n",
        "\n",
        "# 정답을 담는 리스트\n",
        "# 미리 해당 강의 수강 시간을 담아둔다.\n",
        "answer = s_time[:]\n",
        "\n",
        "# 큐가 빌 때까지 반복\n",
        "while q:\n",
        "  # cur : 현재 다루는 강의\n",
        "  cur = q.popleft()\n",
        "\n",
        "  # cur번 강의를 선수과목으로 둔 과목 i에 대해서\n",
        "  for i in graph[cur]:\n",
        "    # 진입 차수 -1\n",
        "    indegree[i] -= 1\n",
        "    # 더 오랜 시간이 걸리는 시간을 answer 리스트에 담는다.\n",
        "    answer[i] = max(answer[i], answer[cur] + s_time[i])\n",
        "    # 새로 진입 차수가 0이 된 과목 큐에 넣는다.\n",
        "    if indegree[i] == 0:\n",
        "      q.append(i)\n",
        "\n",
        "for i in range(1, n + 1):\n",
        "  print(answer[i])"
      ],
      "metadata": {
        "colab": {
          "base_uri": "https://localhost:8080/"
        },
        "id": "z2GGRFprPZYY",
        "outputId": "4e511fc6-7f35-488c-baab-1916d92087bf"
      },
      "execution_count": 2,
      "outputs": [
        {
          "output_type": "stream",
          "name": "stdout",
          "text": [
            "5\n",
            "10 -1\n",
            "10 1 -1\n",
            "4 1 -1\n",
            "4 3 1 -1\n",
            "3 3 -1\n",
            "10\n",
            "20\n",
            "14\n",
            "18\n",
            "17\n"
          ]
        }
      ]
    },
    {
      "cell_type": "markdown",
      "source": [
        "## 백준 14502"
      ],
      "metadata": {
        "id": "gRL1wdK2Qbks"
      }
    },
    {
      "cell_type": "code",
      "source": [
        "from itertools import combinations\n",
        "from collections import deque\n",
        "import copy\n",
        "\n",
        "# 입력 받기\n",
        "N, M = map(int, input().split())\n",
        "lab = [list(map(int, input().split())) for _ in range(N)]\n",
        "\n",
        "# 상하좌우 이동을 위한 방향 벡터\n",
        "directions = [(-1, 0), (1, 0), (0, -1), (0, 1)]\n",
        "\n",
        "# 바이러스 퍼뜨리기\n",
        "def spread_virus(temp_lab):\n",
        "    queue = deque()\n",
        "    for i in range(N):\n",
        "        for j in range(M):\n",
        "            if temp_lab[i][j] == 2:\n",
        "                queue.append((i, j))\n",
        "\n",
        "    while queue:\n",
        "        x, y = queue.popleft()\n",
        "        for dx, dy in directions:\n",
        "            nx, ny = x + dx, y + dy\n",
        "            if 0 <= nx < N and 0 <= ny < M and temp_lab[nx][ny] == 0:\n",
        "                temp_lab[nx][ny] = 2\n",
        "                queue.append((nx, ny))\n",
        "\n",
        "# 안전 영역 계산\n",
        "def get_safe_area(temp_lab):\n",
        "    safe_area = sum(row.count(0) for row in temp_lab)\n",
        "    return safe_area\n",
        "\n",
        "# 빈 칸 찾기\n",
        "empty_spaces = [(i, j) for i in range(N) for j in range(M) if lab[i][j] == 0]\n",
        "\n",
        "# 벽을 세우고 최대 안전 영역 찾기\n",
        "max_safe_area = 0\n",
        "for walls in combinations(empty_spaces, 3):\n",
        "    temp_lab = copy.deepcopy(lab)\n",
        "    for wx, wy in walls:\n",
        "        temp_lab[wx][wy] = 1\n",
        "\n",
        "    spread_virus(temp_lab)\n",
        "    max_safe_area = max(max_safe_area, get_safe_area(temp_lab))\n",
        "\n",
        "print(max_safe_area)"
      ],
      "metadata": {
        "colab": {
          "base_uri": "https://localhost:8080/",
          "height": 365
        },
        "id": "SnR9n0YRP-s1",
        "outputId": "f3535271-09ae-42a9-a1c0-6e1613ea3757"
      },
      "execution_count": 3,
      "outputs": [
        {
          "output_type": "error",
          "ename": "KeyboardInterrupt",
          "evalue": "Interrupted by user",
          "traceback": [
            "\u001b[0;31m---------------------------------------------------------------------------\u001b[0m",
            "\u001b[0;31mKeyboardInterrupt\u001b[0m                         Traceback (most recent call last)",
            "\u001b[0;32m<ipython-input-3-a478255db64d>\u001b[0m in \u001b[0;36m<cell line: 6>\u001b[0;34m()\u001b[0m\n\u001b[1;32m      4\u001b[0m \u001b[0;34m\u001b[0m\u001b[0m\n\u001b[1;32m      5\u001b[0m \u001b[0;31m# 입력 받기\u001b[0m\u001b[0;34m\u001b[0m\u001b[0;34m\u001b[0m\u001b[0m\n\u001b[0;32m----> 6\u001b[0;31m \u001b[0mN\u001b[0m\u001b[0;34m,\u001b[0m \u001b[0mM\u001b[0m \u001b[0;34m=\u001b[0m \u001b[0mmap\u001b[0m\u001b[0;34m(\u001b[0m\u001b[0mint\u001b[0m\u001b[0;34m,\u001b[0m \u001b[0minput\u001b[0m\u001b[0;34m(\u001b[0m\u001b[0;34m)\u001b[0m\u001b[0;34m.\u001b[0m\u001b[0msplit\u001b[0m\u001b[0;34m(\u001b[0m\u001b[0;34m)\u001b[0m\u001b[0;34m)\u001b[0m\u001b[0;34m\u001b[0m\u001b[0;34m\u001b[0m\u001b[0m\n\u001b[0m\u001b[1;32m      7\u001b[0m \u001b[0mlab\u001b[0m \u001b[0;34m=\u001b[0m \u001b[0;34m[\u001b[0m\u001b[0mlist\u001b[0m\u001b[0;34m(\u001b[0m\u001b[0mmap\u001b[0m\u001b[0;34m(\u001b[0m\u001b[0mint\u001b[0m\u001b[0;34m,\u001b[0m \u001b[0minput\u001b[0m\u001b[0;34m(\u001b[0m\u001b[0;34m)\u001b[0m\u001b[0;34m.\u001b[0m\u001b[0msplit\u001b[0m\u001b[0;34m(\u001b[0m\u001b[0;34m)\u001b[0m\u001b[0;34m)\u001b[0m\u001b[0;34m)\u001b[0m \u001b[0;32mfor\u001b[0m \u001b[0m_\u001b[0m \u001b[0;32min\u001b[0m \u001b[0mrange\u001b[0m\u001b[0;34m(\u001b[0m\u001b[0mN\u001b[0m\u001b[0;34m)\u001b[0m\u001b[0;34m]\u001b[0m\u001b[0;34m\u001b[0m\u001b[0;34m\u001b[0m\u001b[0m\n\u001b[1;32m      8\u001b[0m \u001b[0;34m\u001b[0m\u001b[0m\n",
            "\u001b[0;32m/usr/local/lib/python3.10/dist-packages/ipykernel/kernelbase.py\u001b[0m in \u001b[0;36mraw_input\u001b[0;34m(self, prompt)\u001b[0m\n\u001b[1;32m    849\u001b[0m                 \u001b[0;34m\"raw_input was called, but this frontend does not support input requests.\"\u001b[0m\u001b[0;34m\u001b[0m\u001b[0;34m\u001b[0m\u001b[0m\n\u001b[1;32m    850\u001b[0m             )\n\u001b[0;32m--> 851\u001b[0;31m         return self._input_request(str(prompt),\n\u001b[0m\u001b[1;32m    852\u001b[0m             \u001b[0mself\u001b[0m\u001b[0;34m.\u001b[0m\u001b[0m_parent_ident\u001b[0m\u001b[0;34m,\u001b[0m\u001b[0;34m\u001b[0m\u001b[0;34m\u001b[0m\u001b[0m\n\u001b[1;32m    853\u001b[0m             \u001b[0mself\u001b[0m\u001b[0;34m.\u001b[0m\u001b[0m_parent_header\u001b[0m\u001b[0;34m,\u001b[0m\u001b[0;34m\u001b[0m\u001b[0;34m\u001b[0m\u001b[0m\n",
            "\u001b[0;32m/usr/local/lib/python3.10/dist-packages/ipykernel/kernelbase.py\u001b[0m in \u001b[0;36m_input_request\u001b[0;34m(self, prompt, ident, parent, password)\u001b[0m\n\u001b[1;32m    893\u001b[0m             \u001b[0;32mexcept\u001b[0m \u001b[0mKeyboardInterrupt\u001b[0m\u001b[0;34m:\u001b[0m\u001b[0;34m\u001b[0m\u001b[0;34m\u001b[0m\u001b[0m\n\u001b[1;32m    894\u001b[0m                 \u001b[0;31m# re-raise KeyboardInterrupt, to truncate traceback\u001b[0m\u001b[0;34m\u001b[0m\u001b[0;34m\u001b[0m\u001b[0m\n\u001b[0;32m--> 895\u001b[0;31m                 \u001b[0;32mraise\u001b[0m \u001b[0mKeyboardInterrupt\u001b[0m\u001b[0;34m(\u001b[0m\u001b[0;34m\"Interrupted by user\"\u001b[0m\u001b[0;34m)\u001b[0m \u001b[0;32mfrom\u001b[0m \u001b[0;32mNone\u001b[0m\u001b[0;34m\u001b[0m\u001b[0;34m\u001b[0m\u001b[0m\n\u001b[0m\u001b[1;32m    896\u001b[0m             \u001b[0;32mexcept\u001b[0m \u001b[0mException\u001b[0m \u001b[0;32mas\u001b[0m \u001b[0me\u001b[0m\u001b[0;34m:\u001b[0m\u001b[0;34m\u001b[0m\u001b[0;34m\u001b[0m\u001b[0m\n\u001b[1;32m    897\u001b[0m                 \u001b[0mself\u001b[0m\u001b[0;34m.\u001b[0m\u001b[0mlog\u001b[0m\u001b[0;34m.\u001b[0m\u001b[0mwarning\u001b[0m\u001b[0;34m(\u001b[0m\u001b[0;34m\"Invalid Message:\"\u001b[0m\u001b[0;34m,\u001b[0m \u001b[0mexc_info\u001b[0m\u001b[0;34m=\u001b[0m\u001b[0;32mTrue\u001b[0m\u001b[0;34m)\u001b[0m\u001b[0;34m\u001b[0m\u001b[0;34m\u001b[0m\u001b[0m\n",
            "\u001b[0;31mKeyboardInterrupt\u001b[0m: Interrupted by user"
          ]
        }
      ]
    },
    {
      "cell_type": "code",
      "source": [],
      "metadata": {
        "id": "Ou4eAeO2QfT_"
      },
      "execution_count": null,
      "outputs": []
    }
  ]
}