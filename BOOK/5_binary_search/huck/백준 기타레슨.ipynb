{
 "cells": [
  {
   "cell_type": "code",
   "execution_count": 2,
   "metadata": {},
   "outputs": [
    {
     "name": "stdout",
     "output_type": "stream",
     "text": [
      "10 6\n",
      "7 7\n",
      "8 7\n",
      "9 6\n",
      "9\n"
     ]
    }
   ],
   "source": [
    "N,M = map(int, input().split())\n",
    "lectures = list(map(int, input().split()))\n",
    "\n",
    "start = max(lectures)\n",
    "end = sum(lectures)\n",
    "\n",
    "\n",
    "def Bsearch(start, end, target):\n",
    "    result = end\n",
    "    while start <= end:\n",
    "        mid = (start+end)//2\n",
    "        set_num= blueray_num(mid)\n",
    "\n",
    "        print(mid, end=' ')\n",
    "        print(set_num)\n",
    "        if set_num > target:\n",
    "            start = mid+1\n",
    "        \n",
    "        # 작거나 같은 이유는 set_num이 동일하지만 result(mid)가 최소가 아닐 수 있음\n",
    "        # set_num이 동일할 때 현재 mid보다 최소가 있다는 것을 가정하고 end의 범위를 줄인다\n",
    "        if set_num <= target:\n",
    "            result = mid\n",
    "            end = mid-1\n",
    "    print(result)\n",
    "\n",
    "def blueray_num(mid):\n",
    "    set_num = 1     # 블루레이 집합 수\n",
    "    total = 0       # 집합 당 강의 길이 체크 \n",
    "\n",
    "    for lecture in lectures:\n",
    "        total += lecture\n",
    "        if total > mid:\n",
    "            set_num += 1\n",
    "            total = lecture\n",
    "    return set_num\n",
    "\n",
    "Bsearch(start, end, M)"
   ]
  }
 ],
 "metadata": {
  "kernelspec": {
   "display_name": "Python 3",
   "language": "python",
   "name": "python3"
  },
  "language_info": {
   "codemirror_mode": {
    "name": "ipython",
    "version": 3
   },
   "file_extension": ".py",
   "mimetype": "text/x-python",
   "name": "python",
   "nbconvert_exporter": "python",
   "pygments_lexer": "ipython3",
   "version": "3.10.2"
  }
 },
 "nbformat": 4,
 "nbformat_minor": 2
}
