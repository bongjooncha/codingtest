{
 "cells": [
  {
   "cell_type": "code",
   "execution_count": 13,
   "metadata": {},
   "outputs": [],
   "source": [
    "from collections import deque\n",
    "\n",
    "def solution(maps):\n",
    "    Y = len(maps)\n",
    "    X = len(maps[0])\n",
    "\n",
    "    def BFS():\n",
    "        que = deque()\n",
    "        que.append((0,0))\n",
    "\n",
    "        dy=[0,0,1,-1]\n",
    "        dx=[1,-1,0,0]\n",
    "\n",
    "        while que:\n",
    "            y, x = que.popleft()\n",
    "            for i in range(4):\n",
    "                ny = y + dy[i]\n",
    "                nx = x + dx[i]\n",
    "\n",
    "                if nx<0 or nx>=X or ny<0 or ny>=Y:\n",
    "                    continue\n",
    "                else:\n",
    "                    if maps[ny][nx] == 0:\n",
    "                        continue\n",
    "                    if maps[ny][nx] == 1:\n",
    "                        que.append((ny,nx))\n",
    "                        maps[ny][nx] = maps[y][x] + 1\n",
    "        if maps[Y-1][X-1] != 1:\n",
    "            return maps[Y-1][X-1]\n",
    "        else:\n",
    "            return -1\n",
    "\n",
    "    return BFS()"
   ]
  },
  {
   "cell_type": "code",
   "execution_count": 17,
   "metadata": {},
   "outputs": [],
   "source": [
    "map1 = [[1,0,1,1,1],[1,0,1,0,1],[1,0,1,1,1],[1,1,1,0,1],[0,0,0,0,1]]\n",
    "map2 = [[1,0,1,1,1],[1,0,1,0,1],[1,0,1,1,1],[1,1,1,0,0],[0,0,0,0,1]]"
   ]
  },
  {
   "cell_type": "code",
   "execution_count": 18,
   "metadata": {},
   "outputs": [
    {
     "name": "stdout",
     "output_type": "stream",
     "text": [
      "11\n"
     ]
    }
   ],
   "source": [
    "print(solution(map1))"
   ]
  },
  {
   "cell_type": "code",
   "execution_count": 19,
   "metadata": {},
   "outputs": [
    {
     "name": "stdout",
     "output_type": "stream",
     "text": [
      "-1\n"
     ]
    }
   ],
   "source": [
    "print(solution(map2))"
   ]
  }
 ],
 "metadata": {
  "kernelspec": {
   "display_name": "Python 3",
   "language": "python",
   "name": "python3"
  },
  "language_info": {
   "codemirror_mode": {
    "name": "ipython",
    "version": 3
   },
   "file_extension": ".py",
   "mimetype": "text/x-python",
   "name": "python",
   "nbconvert_exporter": "python",
   "pygments_lexer": "ipython3",
   "version": "3.10.2"
  }
 },
 "nbformat": 4,
 "nbformat_minor": 2
}
