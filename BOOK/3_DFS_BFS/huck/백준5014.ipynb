{
 "cells": [
  {
   "cell_type": "markdown",
   "metadata": {},
   "source": [
    "- 건물 총 수 F층\n",
    "- 주인공 S층\n",
    "- 회사 위치 G층\n",
    "- up / down\n",
    "- S층 -> G층으로 가기 위해 눌러야 하는 버튼의 수의 최솟값        \n",
    "엘리베이터로 이동할 수 없을 때는 \"use the stairs\"를 출력"
   ]
  },
  {
   "cell_type": "code",
   "execution_count": 5,
   "metadata": {},
   "outputs": [
    {
     "name": "stdout",
     "output_type": "stream",
     "text": [
      "6\n"
     ]
    }
   ],
   "source": [
    "from collections import deque\n",
    "\n",
    "F, S, G, U, D = map(int, input().split())\n",
    "\n",
    "que = deque()\n",
    "que.append(S)\n",
    "cnt = [0 for _ in range(F+1)]\n",
    "\n",
    "while que:\n",
    "    pos = que.popleft()\n",
    "    if pos == G:\n",
    "        print(cnt[pos])\n",
    "        break\n",
    "    for p in (U, -D):\n",
    "        n_pos = pos+p\n",
    "        if 1 < n_pos <= F:\n",
    "            que.append(n_pos)\n",
    "            cnt[n_pos] = cnt[pos] + 1\n",
    "if cnt[G] == 0:\n",
    "    print(\"use the stairs\")"
   ]
  }
 ],
 "metadata": {
  "kernelspec": {
   "display_name": "Python 3",
   "language": "python",
   "name": "python3"
  },
  "language_info": {
   "codemirror_mode": {
    "name": "ipython",
    "version": 3
   },
   "file_extension": ".py",
   "mimetype": "text/x-python",
   "name": "python",
   "nbconvert_exporter": "python",
   "pygments_lexer": "ipython3",
   "version": "3.10.2"
  }
 },
 "nbformat": 4,
 "nbformat_minor": 2
}
