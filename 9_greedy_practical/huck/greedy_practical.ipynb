{
 "cells": [
  {
   "cell_type": "markdown",
   "metadata": {},
   "source": [
    "### 백준 12018"
   ]
  },
  {
   "cell_type": "code",
   "execution_count": null,
   "metadata": {},
   "outputs": [],
   "source": [
    "n,m = map(int, input().split())\n",
    "lecture = []\n",
    "result=0\n",
    "\n",
    "for _ in range(n):\n",
    "    p,l = map(int, input().split())\n",
    "    mileage = list(map(int, input().split()))\n",
    "    mileage.sort(reverse=True)\n",
    "\n",
    "    if p < l:\n",
    "        lecture.append(1)\n",
    "    else:\n",
    "        lecture.append(mileage[l-1])\n",
    "\n",
    "lecture.sort()\n",
    "\n",
    "for l in lecture:\n",
    "    if m-l >= 0:\n",
    "        result += 1\n",
    "        m -= l \n",
    "print(result)"
   ]
  },
  {
   "cell_type": "markdown",
   "metadata": {},
   "source": [
    "### 백준 11501"
   ]
  },
  {
   "cell_type": "code",
   "execution_count": null,
   "metadata": {},
   "outputs": [],
   "source": [
    "import sys\n",
    "input = sys.stdin.readline\n",
    "\n",
    "T = int(input())\n",
    "\n",
    "for _ in range(T):\n",
    "    day = int(input())\n",
    "    jusik = list(map(int, input().split()))\n",
    "\n",
    "    score = 0\n",
    "\n",
    "    max_score = 0\n",
    "\n",
    "    for i in range(day-1,-1,-1):\n",
    "        if jusik[i] > max_score: \n",
    "            max_score = jusik[i]\n",
    "        else: \n",
    "            score += max_score-jusik[i]\n",
    "    print(score)"
   ]
  }
 ],
 "metadata": {
  "kernelspec": {
   "display_name": "Python 3",
   "language": "python",
   "name": "python3"
  },
  "language_info": {
   "name": "python",
   "version": "3.10.2"
  }
 },
 "nbformat": 4,
 "nbformat_minor": 2
}
