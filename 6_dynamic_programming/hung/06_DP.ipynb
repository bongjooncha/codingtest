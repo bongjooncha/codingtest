{
  "nbformat": 4,
  "nbformat_minor": 0,
  "metadata": {
    "colab": {
      "provenance": [],
      "include_colab_link": true
    },
    "kernelspec": {
      "name": "python3",
      "display_name": "Python 3"
    },
    "language_info": {
      "name": "python"
    }
  },
  "cells": [
    {
      "cell_type": "markdown",
      "metadata": {
        "id": "view-in-github",
        "colab_type": "text"
      },
      "source": [
        "<a href=\"https://colab.research.google.com/github/bongjooncha/codingtest/blob/master/6_dynamic_programming/hung/06_DP.ipynb\" target=\"_parent\"><img src=\"https://colab.research.google.com/assets/colab-badge.svg\" alt=\"Open In Colab\"/></a>"
      ]
    },
    {
      "cell_type": "markdown",
      "source": [
        "## 백준 12865"
      ],
      "metadata": {
        "id": "MeUju6xyzTj-"
      }
    },
    {
      "cell_type": "code",
      "execution_count": 3,
      "metadata": {
        "colab": {
          "base_uri": "https://localhost:8080/"
        },
        "id": "Ie3b0prSzPY6",
        "outputId": "443bc5b0-e483-4453-811c-56fe22f8f505"
      },
      "outputs": [
        {
          "output_type": "stream",
          "name": "stdout",
          "text": [
            "4 7\n",
            "6 13\n",
            "4 8\n",
            "3 6\n",
            "5 12\n",
            "14\n"
          ]
        }
      ],
      "source": [
        "import sys\n",
        "input = sys.stdin.readline\n",
        "\n",
        "N, K = map(int, input().split())\n",
        "bag = [list(map(int, input().split())) for _ in range(N)]\n",
        "dp = [[0]*(K+1) for _ in range(N+1)]\n",
        "#DP표는 0~K+1, 0~N+1로 구성하자 (N=1일 때, DP[i-1][j]가 존재해야 하므로)\n",
        "\n",
        "for i in range(1,N+1):\n",
        "    for j in range(1,K+1):\n",
        "        if j >= bag[i-1][0]:  #\"현재최대무게j가 해당물건무게보다 큰 경우\n",
        "        #표의 윗 셀의 값과 현재물건의V+이전물건의V값의 최댓값을 DP[i][j]에 저장\n",
        "            dp[i][j] = max(bag[i-1][1]+dp[i-1][j-bag[i-1][0]],dp[i-1][j])\n",
        "        else:\n",
        "        \t#\"현재최대무게j가 해당물건무게보다 작은 경우 (현재 물건을 담을 수 없는 경우)\n",
        "            dp[i][j] = dp[i-1][j]\n",
        "\n",
        "print(dp[N][K])  #DP[N][K]가 무조건 정답"
      ]
    },
    {
      "cell_type": "markdown",
      "source": [
        "## 백준 15990\n"
      ],
      "metadata": {
        "id": "lYu5dem5dIt7"
      }
    },
    {
      "cell_type": "code",
      "source": [
        "import sys\n",
        "\n",
        "input = sys.stdin.readline\n",
        "\n",
        "dp = [[0 for _ in range(3)] for _ in range(100001)]\n",
        "\n",
        "dp[1] = [1, 0, 0]\n",
        "dp[2] = [0, 1, 0]\n",
        "dp[3] = [1, 1, 1]\n",
        "\n",
        "for i in range(4, 100001):\n",
        "\n",
        "    dp[i][0] = (dp[i - 1][1] + dp[i - 1][2]) % 1000000009\n",
        "    dp[i][1] = (dp[i - 2][0] + dp[i - 2][2]) % 1000000009\n",
        "\n",
        "    dp[i][2] = (dp[i - 3][0] + dp[i - 3][1]) % 1000000009\n",
        "\n",
        "T = int(input())\n",
        "for i in range(T):\n",
        "    n = int(input())\n",
        "    print(sum(dp[n]) % 1000000009)\n"
      ],
      "metadata": {
        "id": "kvaGWMWz0Lhl",
        "colab": {
          "base_uri": "https://localhost:8080/"
        },
        "outputId": "7a3e93b0-8d95-4234-9c45-dea49bae83ac"
      },
      "execution_count": 2,
      "outputs": [
        {
          "output_type": "execute_result",
          "data": {
            "text/plain": [
              "1"
            ]
          },
          "metadata": {},
          "execution_count": 2
        }
      ]
    },
    {
      "cell_type": "code",
      "source": [],
      "metadata": {
        "id": "lYFDrAs3d_Hf"
      },
      "execution_count": null,
      "outputs": []
    }
  ]
}