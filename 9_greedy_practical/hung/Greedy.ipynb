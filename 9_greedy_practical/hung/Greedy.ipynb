{
  "nbformat": 4,
  "nbformat_minor": 0,
  "metadata": {
    "colab": {
      "provenance": [],
      "authorship_tag": "ABX9TyNB00TN2hBoR7bQehRELntA",
      "include_colab_link": true
    },
    "kernelspec": {
      "name": "python3",
      "display_name": "Python 3"
    },
    "language_info": {
      "name": "python"
    }
  },
  "cells": [
    {
      "cell_type": "markdown",
      "metadata": {
        "id": "view-in-github",
        "colab_type": "text"
      },
      "source": [
        "<a href=\"https://colab.research.google.com/github/bongjooncha/codingtest/blob/master/9_greedy_practical/hung/Greedy.ipynb\" target=\"_parent\"><img src=\"https://colab.research.google.com/assets/colab-badge.svg\" alt=\"Open In Colab\"/></a>"
      ]
    },
    {
      "cell_type": "markdown",
      "source": [
        "## 백준 Yonsei"
      ],
      "metadata": {
        "id": "WcmOUjjAuhzR"
      }
    },
    {
      "cell_type": "code",
      "execution_count": null,
      "metadata": {
        "id": "lnOHMdEMufIu"
      },
      "outputs": [],
      "source": [
        "n,m = map(int,input().split())\n",
        "count = 0\n",
        "real_arr = []\n",
        "while n > 0:\n",
        "  p , j = map(int, input().split())\n",
        "  arr = list(map(int,input().split()))\n",
        "  arr.sort()\n",
        "  real_arr.append(arr[-4])\n",
        "  n -= 1\n",
        "\n",
        "real_arr.sort()\n",
        "for i in real_arr:\n",
        "  if (m-i) >= 0:\n",
        "    m -= i\n",
        "    count += 1\n",
        "  else:\n",
        "    break\n",
        "print(count)\n",
        "\n"
      ]
    }
  ]
}