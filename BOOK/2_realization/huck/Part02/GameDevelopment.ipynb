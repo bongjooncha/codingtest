{
 "cells": [
  {
   "cell_type": "markdown",
   "metadata": {},
   "source": [
    "캐릭터는 NxM크기의 직사각형에 있음 각 칸은 육지 or 바다     \n",
    "캐릭터는 동서남북 중 한 곳을 바라봄\n",
    "\n",
    "맵의 각 칸 (A,B)        \n",
    "A : 북쪽으로 떨어진 칸의 수     \n",
    "B : 서쪽으로 떨어진 칸의 수     \n",
    "상하좌우 움직임O, 바다 불가     \n",
    "\n",
    "1. 현재 방향의 왼쪽 방향부터 갈 곳 정하기\n",
    "2. 왼쪽에 안 가본 칸이 있으면, 왼쪽 회전, 한칸 전진     \n",
    "2-1. 왼쪽에 가본 칸이면, 왼쪽 회전만 1로 돌아감\n",
    "3. 4방향 모두 가보거나 바다면, 한 칸 뒤로, 1로 돌아감       \n",
    "3-1. 뒤에 바다면, 멈춤"
   ]
  },
  {
   "cell_type": "code",
   "execution_count": null,
   "metadata": {},
   "outputs": [],
   "source": [
    "# 맵 생성\n",
    "N, M = map(int, input().split())\n",
    "# (A,B) : 캐릭터 위치, d(방향) : 0(북), 1(동), 2(남), 3(서)\n",
    "A, B, d = map(int, input().split())\n",
    "# 육지(0) or 바다(1)\n",
    "map = []\n",
    "for m in range(M):\n",
    "    map.append(list(map(int, input().split())))\n",
    "\n",
    "result = 0\n",
    "# 방향 idx\n",
    "direction = [0,1,2,3]\n",
    "# 북 남\n",
    "dx = [-1,0,1,0]\n",
    "# 동 서\n",
    "dy = [0,1,0,-1]\n",
    "\n"
   ]
  }
 ],
 "metadata": {
  "kernelspec": {
   "display_name": "Python 3",
   "language": "python",
   "name": "python3"
  },
  "language_info": {
   "codemirror_mode": {
    "name": "ipython",
    "version": 3
   },
   "file_extension": ".py",
   "mimetype": "text/x-python",
   "name": "python",
   "nbconvert_exporter": "python",
   "pygments_lexer": "ipython3",
   "version": "3.10.2"
  }
 },
 "nbformat": 4,
 "nbformat_minor": 2
}
