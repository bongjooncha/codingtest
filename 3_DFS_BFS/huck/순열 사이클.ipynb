{
 "cells": [
  {
   "cell_type": "markdown",
   "metadata": {},
   "source": [
    "#### Idea\n",
    "- 순열의 값이 순서(idx)대로 입력되고\n",
    "- 현재 idx의 값은 다음 idx가 되어 그래프를 그릴 수 있다.\n",
    "- 이런 매커니즘은 DFS라 판단하였습니다"
   ]
  },
  {
   "cell_type": "code",
   "execution_count": null,
   "metadata": {},
   "outputs": [],
   "source": [
    "T = int(input())\n",
    "\n",
    "def DFS(idx):\n"
   ]
  },
  {
   "cell_type": "code",
   "execution_count": null,
   "metadata": {},
   "outputs": [],
   "source": [
    "    # DFS가 시작되는 idx를 방문처리\n",
    "    visited[idx]=True\n",
    "    # 현재 idx의 값은 다음에 찾으려는 값의 idx\n",
    "    next_idx = nlist[idx]\n",
    "    # 다음의 idx를 방문하지 않았다면 그래프를 만들어 나갈 수 있다 => 재귀 실행\n",
    "    if not visited[next_idx]:\n",
    "        DFS(next_idx)\n",
    "\n",
    "for _ in range(T):\n",
    "    N = int(input())\n",
    "    # 순열은 1번 부터 시작하기 때문에 idx=0인 부분은 필요가 없어서 0으로 초기화\n",
    "    nlist = [0]+list(map(int, input().split()))\n",
    "    result = 0\n",
    "    # 앞의 설명과 마찬가지로 idx=0인 부분을 True로 먼저 초기화\n",
    "    visited = [True] + [False for _ in range(N)]\n",
    "\n",
    "    # 참고로 i는 1부터 시작하므로 index가 0인 경우는 쓰일 염려 X\n",
    "    for i in range(1,N+1):\n",
    "        # 해당 idx에 방문하지 않았을 경우에만\n",
    "        if not visited[i]:\n",
    "            # DFS 실행\n",
    "            DFS(i)\n",
    "            result += 1\n",
    "    print(result)"
   ]
  }
 ],
 "metadata": {
  "kernelspec": {
   "display_name": "Python 3",
   "language": "python",
   "name": "python3"
  },
  "language_info": {
   "name": "python",
   "version": "3.10.2"
  }
 },
 "nbformat": 4,
 "nbformat_minor": 2
}
