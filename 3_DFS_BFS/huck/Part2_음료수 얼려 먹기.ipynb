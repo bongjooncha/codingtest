{
 "cells": [
  {
   "cell_type": "markdown",
   "metadata": {},
   "source": [
    "### 음료수 얼려 먹기"
   ]
  },
  {
   "cell_type": "code",
   "execution_count": 6,
   "metadata": {},
   "outputs": [],
   "source": [
    "N, M = map(int, input().split())\n",
    "frame = [list(map(int, input())) for _ in range(N)]"
   ]
  },
  {
   "cell_type": "code",
   "execution_count": 7,
   "metadata": {},
   "outputs": [
    {
     "name": "stdout",
     "output_type": "stream",
     "text": [
      "3\n",
      "None\n"
     ]
    }
   ],
   "source": [
    "def solution(N, M, mat):\n",
    "    result = 0\n",
    "    for n in range(N):\n",
    "        for m in range(M):\n",
    "            if DFS(mat, n, m):\n",
    "                result += 1\n",
    "    print(result)\n",
    "\n",
    "    \n",
    "def DFS(mat, n, m):\n",
    "    dx = [1, -1, 0, 0]\n",
    "    dy = [0, 0, 1, -1]\n",
    "    if n < 0 or m < 0 or n >= N or m >= M:  # 범위 벗어나면 false\n",
    "        return False\n",
    "    if mat[n][m] == 0:\n",
    "        mat[n][m] = 1                       # 방문 처리\n",
    "        for i in range(4):\n",
    "            DFS(mat, n+dx[i], m+dy[i])\n",
    "        return True\n",
    "    # 범위 안이지만 1일 경우\n",
    "    return False\n",
    "\n",
    "print(solution(N,M,frame))"
   ]
  }
 ],
 "metadata": {
  "kernelspec": {
   "display_name": "Python 3",
   "language": "python",
   "name": "python3"
  },
  "language_info": {
   "codemirror_mode": {
    "name": "ipython",
    "version": 3
   },
   "file_extension": ".py",
   "mimetype": "text/x-python",
   "name": "python",
   "nbconvert_exporter": "python",
   "pygments_lexer": "ipython3",
   "version": "3.10.2"
  }
 },
 "nbformat": 4,
 "nbformat_minor": 2
}
