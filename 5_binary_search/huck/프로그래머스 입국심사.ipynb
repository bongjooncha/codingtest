{
 "cells": [
  {
   "cell_type": "code",
   "execution_count": 8,
   "metadata": {},
   "outputs": [],
   "source": [
    "n = 6\t\n",
    "times = [7, 10]"
   ]
  },
  {
   "cell_type": "code",
   "execution_count": 11,
   "metadata": {},
   "outputs": [],
   "source": [
    "def solution(n, times):\n",
    "    start = 1\n",
    "    end = max(times)*n\n",
    "\n",
    "    result = 0\n",
    "\n",
    "    while start <= end:\n",
    "        mid = (start+end)//2\n",
    "        target = 0\n",
    "\n",
    "        for time in times:\n",
    "            target += mid // time\n",
    "        if target < n:\n",
    "            start = mid+1\n",
    "        # target은 n보다 조금 초과되도 괜찮음\n",
    "        if target >= n:\n",
    "            result = mid\n",
    "            end = mid-1\n",
    "    return result"
   ]
  },
  {
   "cell_type": "code",
   "execution_count": 12,
   "metadata": {},
   "outputs": [
    {
     "name": "stdout",
     "output_type": "stream",
     "text": [
      "28\n"
     ]
    }
   ],
   "source": [
    "print(solution(n,times))"
   ]
  }
 ],
 "metadata": {
  "kernelspec": {
   "display_name": "Python 3",
   "language": "python",
   "name": "python3"
  },
  "language_info": {
   "codemirror_mode": {
    "name": "ipython",
    "version": 3
   },
   "file_extension": ".py",
   "mimetype": "text/x-python",
   "name": "python",
   "nbconvert_exporter": "python",
   "pygments_lexer": "ipython3",
   "version": "3.10.2"
  }
 },
 "nbformat": 4,
 "nbformat_minor": 2
}
