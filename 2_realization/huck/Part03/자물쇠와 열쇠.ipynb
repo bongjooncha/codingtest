{
 "cells": [
  {
   "cell_type": "markdown",
   "metadata": {},
   "source": [
    "열쇠의 돌기 - 자물쇠의 홈(돌기X)에 딱 맞게 채우면 자물쇠가 열리게 되는 구조      \n",
    "자물쇠 영역 내에서는 **열쇠의 돌기와 자물쇠의 홈** 부분이 정확히 일치해야 함\n",
    "**열쇠의 돌기와 자물쇠의 돌기가 만나서는 X**\n",
    "**자물쇠의 모든 홈을 채워 비어있는 곳이 X**\n",
    "- 자물쇠(lock)\n",
    "    - 격자 한 칸의 크기가 1 x 1인 \n",
    "    - 2차원 배열 N x N 크기의 정사각 격자 형태\n",
    "- 열쇠(key)\n",
    "    - 2차원 배열 M x M 크기인 정사각 격자 형태\n",
    "    - 회전과 이동이 가능 \n",
    "열면 true 못 열면 false"
   ]
  },
  {
   "cell_type": "code",
   "execution_count": 9,
   "metadata": {},
   "outputs": [],
   "source": [
    "key = [[0, 0, 0], [1, 0, 0], [0, 1, 1]]\n",
    "lock = [[1, 1, 1], [1, 1, 0], [1, 0, 1]]"
   ]
  },
  {
   "cell_type": "code",
   "execution_count": 10,
   "metadata": {},
   "outputs": [],
   "source": [
    "import numpy as np\n",
    "\n",
    "def solution(key, lock):\n",
    "    N = len(lock)\n",
    "    M = len(key)\n",
    "\n",
    "    padded_lock = padding(lock, M-1)\n",
    "\n",
    "    for _ in range(4):\n",
    "        for i in range(N+2*(M-1)):\n",
    "            for j in range(N+2*(M-1)):\n",
    "                np_key = np.array(key)\n",
    "                total = padded_lock[i:i+M, j:j+M] + np_key\n",
    "\n",
    "                # 모든 lock 부분이 1이 되는지 확인\n",
    "                if np.all(total[M-1:M-1+N, M-1:M-1+N] == 1):  \n",
    "                    return True\n",
    "        key = rotate(key)\n",
    "    return False\n",
    "\n",
    "\n",
    "def padding(mat, M):\n",
    "    # mat의 크기\n",
    "    N = len(mat)\n",
    "    # 패딩의 크기\n",
    "    pad_size = N + 2*(M-1)  # 원본 크기 + (상하좌우 각각 M-1개씩 추가)\n",
    "\n",
    "    # 패딩된 리스트 생성 (전부 0으로 초기화)\n",
    "    padded_mat = [[0]*pad_size for _ in range(pad_size)]\n",
    "\n",
    "    # 원본 mat의 내용을 새 리스트의 가운데에 복사\n",
    "    for i in range(N):\n",
    "        for j in range(N):\n",
    "            padded_mat[i+(M-1)][j+(M-1)] = mat[i][j]\n",
    "\n",
    "    return np.array(padded_mat)\n",
    "\n",
    "    \n",
    "def rotate(mat):\n",
    "    n = len(mat)\n",
    "    # 시계 방향으로 90도 회전한 행렬을 생성\n",
    "    # 원래 행렬의 열을 거꾸로 한 순서대로 새 행렬의 행으로 설정\n",
    "    rotated_mat = [[mat[n-j-1][i] for j in range(n)] for i in range(n)]\n",
    "    return rotated_mat"
   ]
  },
  {
   "cell_type": "code",
   "execution_count": 11,
   "metadata": {},
   "outputs": [
    {
     "data": {
      "text/plain": [
       "True"
      ]
     },
     "execution_count": 11,
     "metadata": {},
     "output_type": "execute_result"
    }
   ],
   "source": [
    "solution(key, lock)"
   ]
  }
 ],
 "metadata": {
  "kernelspec": {
   "display_name": "Python 3",
   "language": "python",
   "name": "python3"
  },
  "language_info": {
   "codemirror_mode": {
    "name": "ipython",
    "version": 3
   },
   "file_extension": ".py",
   "mimetype": "text/x-python",
   "name": "python",
   "nbconvert_exporter": "python",
   "pygments_lexer": "ipython3",
   "version": "3.10.2"
  }
 },
 "nbformat": 4,
 "nbformat_minor": 2
}
