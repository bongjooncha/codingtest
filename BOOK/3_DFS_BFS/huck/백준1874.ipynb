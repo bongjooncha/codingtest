{
  "cells": [
    {
      "cell_type": "markdown",
      "metadata": {},
      "source": [
        "### trial 1 -> nameerror"
      ]
    },
    {
      "cell_type": "code",
      "execution_count": 13,
      "metadata": {
        "colab": {
          "base_uri": "https://localhost:8080/",
          "height": 221
        },
        "id": "zIeUmb6Qi8UM",
        "outputId": "e4875777-a8e2-4476-ea57-53bf56ed2d74"
      },
      "outputs": [
        {
          "name": "stdout",
          "output_type": "stream",
          "text": [
            "+\n",
            "+\n",
            "+\n",
            "+\n",
            "-\n",
            "-\n",
            "+\n",
            "+\n",
            "-\n",
            "+\n",
            "+\n",
            "-\n",
            "-\n",
            "-\n",
            "-\n",
            "-\n"
          ]
        }
      ],
      "source": [
        "n = int(input())\n",
        "nlist = [int(input()) for _ in range(n)]\n",
        "\n",
        "stack = [1]\n",
        "result = []\n",
        "cnt = 1\n",
        "\n",
        "for num in nlist:\n",
        "  before_num = stack[-1]\n",
        "  if before_num < num:\n",
        "    for i in range(cnt, num+1):\n",
        "      stack.append(i)\n",
        "      result.append('+')\n",
        "    stack.pop()\n",
        "    result.append('-')\n",
        "    cnt=num+1\n",
        "\n",
        "  else:\n",
        "    for j in range(num, before_num+1):\n",
        "      stack.pop()\n",
        "      result.append('-')\n",
        "\n",
        "  if len(stack) == 0:\n",
        "    print(\"NO\")\n",
        "    break\n",
        "  \n",
        "for r in result:\n",
        "  print(r)"
      ]
    },
    {
      "cell_type": "markdown",
      "metadata": {},
      "source": [
        "### trial 2 -> O"
      ]
    },
    {
      "cell_type": "code",
      "execution_count": 14,
      "metadata": {},
      "outputs": [
        {
          "name": "stdout",
          "output_type": "stream",
          "text": [
            "+\n",
            "+\n",
            "+\n",
            "+\n",
            "-\n",
            "-\n",
            "+\n",
            "+\n",
            "-\n",
            "+\n",
            "+\n",
            "-\n",
            "-\n",
            "-\n",
            "-\n",
            "-\n"
          ]
        }
      ],
      "source": [
        "n = int(input())\n",
        "nlist = [int(input()) for _ in range(n)]\n",
        "\n",
        "stack = []\n",
        "result = []\n",
        "cnt = 1\n",
        "possible = 1\n",
        "\n",
        "for num in nlist:\n",
        "    while cnt <= num:\n",
        "        stack.append(cnt)\n",
        "        result.append(\"+\")\n",
        "        cnt += 1\n",
        "\n",
        "    if stack[-1] == num:\n",
        "        stack.pop()\n",
        "        result.append(\"-\")\n",
        "\n",
        "    else:\n",
        "        possible = 0\n",
        "        break\n",
        "\n",
        "if possible == 0:\n",
        "    print('NO')\n",
        "else:\n",
        "    for r in result:\n",
        "        print(r)"
      ]
    }
  ],
  "metadata": {
    "colab": {
      "provenance": []
    },
    "kernelspec": {
      "display_name": "Python 3",
      "name": "python3"
    },
    "language_info": {
      "codemirror_mode": {
        "name": "ipython",
        "version": 3
      },
      "file_extension": ".py",
      "mimetype": "text/x-python",
      "name": "python",
      "nbconvert_exporter": "python",
      "pygments_lexer": "ipython3",
      "version": "3.10.2"
    }
  },
  "nbformat": 4,
  "nbformat_minor": 0
}
