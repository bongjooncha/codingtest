{
 "cells": [
  {
   "cell_type": "markdown",
   "metadata": {},
   "source": [
    "- 나의 위치는 (1,1)\n",
    "- 출구는 (N,M)\n",
    "- 괴물 O => 0\n",
    "- 반드시 탈출 가능해야 \n",
    "- 탈출하기 위해 움직여야 하는 최소 칸 수(시작, 마지막 포함)"
   ]
  },
  {
   "cell_type": "code",
   "execution_count": 17,
   "metadata": {},
   "outputs": [],
   "source": [
    "N, M = map(int, input().split())\n",
    "miro = [list(map(int, input())) for _ in range(N)]"
   ]
  },
  {
   "cell_type": "markdown",
   "metadata": {},
   "source": [
    "최단 거리 문제에서 많이 쓰는 BFS를 써보자"
   ]
  },
  {
   "cell_type": "code",
   "execution_count": 18,
   "metadata": {},
   "outputs": [],
   "source": [
    "from collections import deque\n",
    "\n",
    "def solution(N,M,mat):\n",
    "    sol = BFS(N,M,mat)\n",
    "    print(sol)\n",
    "\n",
    "def BFS(N,M,mat):\n",
    "    que = deque()\n",
    "    que.append((0,0))\n",
    "\n",
    "    dx = [1,-1,0,0]\n",
    "    dy = [0,0,1,-1]\n",
    "\n",
    "    while que:\n",
    "        n, m = que.popleft()\n",
    "\n",
    "        for i in range(4):\n",
    "            x = m+dx[i]\n",
    "            y = n+dy[i]\n",
    "            if x<0 or x>=M or y<0 or y>=N:\n",
    "                continue\n",
    "            else:\n",
    "                if mat[y][x] == 1:\n",
    "                    que.append((y,x))\n",
    "                    # 미로의 경로 자체에 몇 칸 지났는지 기록\n",
    "                    mat[y][x] = mat[n][m] + 1\n",
    "    return mat[N-1][M-1]"
   ]
  },
  {
   "cell_type": "code",
   "execution_count": 19,
   "metadata": {},
   "outputs": [
    {
     "name": "stdout",
     "output_type": "stream",
     "text": [
      "10\n"
     ]
    }
   ],
   "source": [
    "solution(N,M,miro)"
   ]
  }
 ],
 "metadata": {
  "kernelspec": {
   "display_name": "Python 3",
   "language": "python",
   "name": "python3"
  },
  "language_info": {
   "codemirror_mode": {
    "name": "ipython",
    "version": 3
   },
   "file_extension": ".py",
   "mimetype": "text/x-python",
   "name": "python",
   "nbconvert_exporter": "python",
   "pygments_lexer": "ipython3",
   "version": "3.10.2"
  }
 },
 "nbformat": 4,
 "nbformat_minor": 2
}
