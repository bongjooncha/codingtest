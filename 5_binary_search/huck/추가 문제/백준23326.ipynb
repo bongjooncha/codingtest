{
 "cells": [
  {
   "cell_type": "markdown",
   "metadata": {},
   "source": [
    "시간 초과 헬프 미,,,"
   ]
  },
  {
   "cell_type": "markdown",
   "metadata": {},
   "source": [
    " \n",
    "1. $i$ : $i$번 구역이 명소가 아니었다면 명소로 지정되고, 명소였다면 지정이 풀리게 된다. \n",
    "($1 \\leq i \\leq N$)\n",
    "2. $x$ : 도현이가 시계방향으로 $x$만큼 이동한다. ($1 \\leq x \\leq 10^9$)\n",
    " \n",
    "3. 도현이가 명소에 도달하기 위해 시계방향으로 최소 몇 칸 움직여야 하는 지 출력한다. 명소가 존재하지 않는 경우 $-1$을 출력한다."
   ]
  },
  {
   "cell_type": "code",
   "execution_count": 4,
   "metadata": {},
   "outputs": [
    {
     "name": "stdout",
     "output_type": "stream",
     "text": [
      "1\n",
      "4\n",
      "0\n",
      "-1\n"
     ]
    }
   ],
   "source": [
    "N, Q = map(int, input().split())\n",
    "# 명소 = 1\n",
    "N_list = list(map(int, input().split()))\n",
    "# 현재 위치 idx=0\n",
    "cur_pos = 0\n",
    "result = []\n",
    "\n",
    "for _ in range(Q):\n",
    "    query = list(map(int, input().split()))\n",
    "    if query[0] == 1:\n",
    "        i = query[1]-1\n",
    "        if N_list[i]:\n",
    "            N_list[i] = 0\n",
    "        else:\n",
    "            N_list[i] = 1\n",
    "    elif query[0] == 2:\n",
    "        x = query[1]\n",
    "        cur_pos = (cur_pos + x)%N\n",
    "        \n",
    "    elif query[0] == 3:\n",
    "        found = False\n",
    "        for j in range(N):\n",
    "            if N_list[(j+cur_pos)%N]==1:\n",
    "                result.append(j)\n",
    "                found = True\n",
    "                break\n",
    "        if found == False:\n",
    "            result.append(-1)\n",
    "\n",
    "for r in result:\n",
    "    print(r)"
   ]
  },
  {
   "cell_type": "code",
   "execution_count": 5,
   "metadata": {},
   "outputs": [
    {
     "name": "stdout",
     "output_type": "stream",
     "text": [
      "1\n",
      "4\n",
      "0\n",
      "-1\n"
     ]
    }
   ],
   "source": [
    "from collections import deque\n",
    "\n",
    "N, Q = map(int, input().split())\n",
    "# 명소 = 1\n",
    "N_list = list(map(int, input().split()))\n",
    "# 현재 위치 idx=0\n",
    "attractions = deque(i for i in range(N) if N_list[i] == 1)\n",
    "\n",
    "cur_pos = 0\n",
    "results = []\n",
    "\n",
    "for _ in range(Q):\n",
    "    query = list(map(int, input().split()))\n",
    "    if query[0] == 1:\n",
    "        i = query[1]-1\n",
    "        if N_list[i]:\n",
    "            N_list[i] = 0\n",
    "            attractions.remove(i)\n",
    "        else:\n",
    "            N_list[i] = 1\n",
    "            attractions.append(i)\n",
    "            attractions = deque(sorted(attractions))\n",
    "\n",
    "    elif query[0] == 2:\n",
    "        x = query[1]\n",
    "        cur_pos = (cur_pos + x)%N\n",
    "        \n",
    "    elif query[0] == 3:  # 찾기 쿼리\n",
    "        if not attractions:\n",
    "            results.append(-1)\n",
    "        else:\n",
    "            nearest = min(attractions, key=lambda x: (x - cur_pos) % N)\n",
    "            results.append((nearest - cur_pos) % N)\n",
    "\n",
    "for r in results:\n",
    "    print(r)"
   ]
  }
 ],
 "metadata": {
  "kernelspec": {
   "display_name": "Python 3",
   "language": "python",
   "name": "python3"
  },
  "language_info": {
   "codemirror_mode": {
    "name": "ipython",
    "version": 3
   },
   "file_extension": ".py",
   "mimetype": "text/x-python",
   "name": "python",
   "nbconvert_exporter": "python",
   "pygments_lexer": "ipython3",
   "version": "3.10.2"
  }
 },
 "nbformat": 4,
 "nbformat_minor": 2
}
