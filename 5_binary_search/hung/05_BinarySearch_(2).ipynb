{
  "nbformat": 4,
  "nbformat_minor": 0,
  "metadata": {
    "colab": {
      "provenance": [],
      "authorship_tag": "ABX9TyNnED+r+D7vlIafEA4IHX40",
      "include_colab_link": true
    },
    "kernelspec": {
      "name": "python3",
      "display_name": "Python 3"
    },
    "language_info": {
      "name": "python"
    }
  },
  "cells": [
    {
      "cell_type": "markdown",
      "metadata": {
        "id": "view-in-github",
        "colab_type": "text"
      },
      "source": [
        "<a href=\"https://colab.research.google.com/github/bongjooncha/codingtest/blob/master/5_binary_search/hung/05_BinarySearch_(2).ipynb\" target=\"_parent\"><img src=\"https://colab.research.google.com/assets/colab-badge.svg\" alt=\"Open In Colab\"/></a>"
      ]
    },
    {
      "cell_type": "markdown",
      "source": [
        "## Q1 백준 1072 번"
      ],
      "metadata": {
        "id": "9VjDzUUVfvFa"
      }
    },
    {
      "cell_type": "code",
      "source": [
        "x, y = map(int, input().split())\n",
        "z = (y * 100) // x\n",
        "\n",
        "# 승률이 100%일 때는 더 이상 승률을 변화시킬 수 없으므로 -1 출력\n",
        "if z >= 99:\n",
        "    print(-1)\n",
        "else:\n",
        "    # 이분 탐색으로 최소 게임 수 찾기\n",
        "    left, right = 0, 1000000000  # 게임 횟수의 최대 범위 설정\n",
        "    while left < right:\n",
        "        mid = (left + right) // 2\n",
        "        new_z = ((y + mid) * 100) // (x + mid)\n",
        "        if new_z > z:\n",
        "            right = mid\n",
        "        else:\n",
        "            left = mid + 1\n",
        "    print(left)"
      ],
      "metadata": {
        "colab": {
          "base_uri": "https://localhost:8080/"
        },
        "id": "bshbCvStjpi-",
        "outputId": "0e7d4773-5893-4451-e3cd-3dcb2d4b3aab"
      },
      "execution_count": 1,
      "outputs": [
        {
          "output_type": "stream",
          "name": "stdout",
          "text": [
            "10 8\n",
            "1\n"
          ]
        }
      ]
    },
    {
      "cell_type": "code",
      "execution_count": 20,
      "metadata": {
        "colab": {
          "base_uri": "https://localhost:8080/"
        },
        "id": "RGf4Hi8tfj5E",
        "outputId": "63e2c299-1dc0-4e0e-f0fd-36b5b9df85db"
      },
      "outputs": [
        {
          "output_type": "stream",
          "name": "stdout",
          "text": [
            "10 8\n",
            "-1\n"
          ]
        }
      ],
      "source": [
        "arr = input().split()\n",
        "x = int(arr[0])\n",
        "y = int(arr[1])\n",
        "target_z = (y*100) / 100\n",
        "# z는 걍 내가 임의로 검사해볼 값\n",
        "count = 0\n",
        "def targeting(x,y,tar_z,count):\n",
        "  z = (y+1)*100/(x+1)\n",
        "  if z == tar_z :\n",
        "    count += 1\n",
        "    return targeting(x+2,y+2,tar_z,count) # 루프 한번 더 돌고\n",
        "  else:\n",
        "    return count # 최종으론 count 개수를 반환\n",
        "\n",
        "if targeting(x,y,target_z,count) == 0:\n",
        "  print(-1)\n",
        "else :\n",
        "  print(count)"
      ]
    },
    {
      "cell_type": "markdown",
      "source": [
        "## 백준 23326 번\n"
      ],
      "metadata": {
        "id": "a6dbrJ5EwD1r"
      }
    },
    {
      "cell_type": "code",
      "source": [
        "from sys import stdin, stdout\n",
        "\n",
        "input = stdin.read\n",
        "def solve():\n",
        "    data = input().split()\n",
        "    N = int(data[0])\n",
        "    Q = int(data[1])\n",
        "    A = list(map(int, data[2:2+N]))\n",
        "    queries = data[2+N:]\n",
        "\n",
        "    pos = 0  # 도현이의 현재 위치\n",
        "    sights = set()  # 명소 위치를 저장하는 set\n",
        "\n",
        "    # 초기 명소들을 관리\n",
        "    for i in range(N):\n",
        "        if A[i] == 1:\n",
        "            sights.add(i)\n",
        "\n",
        "    output = []\n",
        "    idx = 0\n",
        "    for q in queries:\n",
        "        if q == '1':\n",
        "            i = int(queries[idx + 1]) - 1\n",
        "            idx += 2\n",
        "            if A[i] == 0:\n",
        "                A[i] = 1\n",
        "                sights.add(i)\n",
        "            else:\n",
        "                A[i] = 0\n",
        "                sights.remove(i)\n",
        "        elif q == '2':\n",
        "            x = int(queries[idx + 1])\n",
        "            idx += 2\n",
        "            pos = (pos + x) % N\n",
        "        elif q == '3':\n",
        "            idx += 1\n",
        "            if not sights:\n",
        "                output.append(\"-1\")\n",
        "            else:\n",
        "                # 최소 이동 거리 찾기\n",
        "                min_moves = float('inf')\n",
        "                for sight in sights:\n",
        "                    # 시계 방향으로 움직인 최소 거리 계산\n",
        "                    moves = (sight - pos) % N\n",
        "                    if moves < min_moves:\n",
        "                        min_moves = moves\n",
        "                output.append(str(min_moves))\n",
        "\n",
        "    stdout.write(\"\\n\".join(output) + \"\\n\")\n",
        "\n",
        "solve()\n"
      ],
      "metadata": {
        "id": "di45ycNpv4mB"
      },
      "execution_count": null,
      "outputs": []
    },
    {
      "cell_type": "code",
      "source": [
        "N, Q = map(int, input().split())\n",
        "arr = list(map(int, input().split()))\n",
        "\n",
        "current_location = 0\n",
        "while Q:\n",
        "  query = list(map(int,input().split()))\n",
        "  if query[0]==1: # query = 1번일 때 작업\n",
        "\n",
        "    if arr[query[1]-1] == 0:\n",
        "      arr[query[1]-1] = 1\n",
        "    elif arr[query[1]-1] == 1:\n",
        "      arr[query[1]-1] = 0\n",
        "\n",
        "  elif query[0] == 2 : # query = 2번일 때 작업\n",
        "\n",
        "    moving_step = (query[1]) % N # 원형 작업이 핵심이니 구현하시오\n",
        "    current_location = (current_location + moving_step) % N # 이동 후 위치\n",
        "\n",
        "  elif query[0] == 3:\n",
        "    # 명소에 도착하려면 몇 번 이동해야하니? 구현하시오\n",
        "    if 1 not in arr:\n",
        "      print(-1)\n",
        "    else :\n",
        "      current_spot_location = float('inf')\n",
        "      for i in range(len(arr)):\n",
        "        if arr[i] == 1 :\n",
        "          if current_spot_location > i:\n",
        "            current_spot_location = i\n",
        "      if current_spot_location >= current_location:\n",
        "        print(current_spot_location - current_location)\n",
        "      elif current_spot_location < current_location:\n",
        "        print(N+current_spot_location - current_location)\n",
        "  Q -= 1\n",
        ""
      ],
      "metadata": {
        "colab": {
          "base_uri": "https://localhost:8080/"
        },
        "id": "5RFKf3TaHz57",
        "outputId": "64c1993c-b5b0-412b-b0aa-a722c449d0be"
      },
      "execution_count": 8,
      "outputs": [
        {
          "output_type": "stream",
          "name": "stdout",
          "text": [
            "5 7\n",
            "0 1 0 0 1\n",
            "3\n",
            "1\n",
            "1 2\n",
            "3\n",
            "4\n",
            "2 9\n",
            "3\n",
            "0\n",
            "1 5\n",
            "3\n",
            "-1\n"
          ]
        }
      ]
    },
    {
      "cell_type": "markdown",
      "source": [
        "## 백준 2470번"
      ],
      "metadata": {
        "id": "cCjvH_XEabk2"
      }
    },
    {
      "cell_type": "code",
      "source": [
        "# 입력 받기\n",
        "N = int(input())\n",
        "arr = list(map(int, input().split()))\n",
        "\n",
        "# 배열을 정렬\n",
        "arr.sort()\n",
        "\n",
        "# 두 포인터 초기화\n",
        "left = 0\n",
        "right = N - 1\n",
        "closest_sum = float('inf')  # 가능한 가장 큰 값으로 초기화\n",
        "best_pair = (0, 0)\n",
        "\n",
        "# 두 포인터가 교차할 때까지 반복\n",
        "while left < right:\n",
        "    current_sum = arr[left] + arr[right]\n",
        "\n",
        "    # 현재 합의 절대값이 이전의 가장 작은 절대값보다 작다면 정보 업데이트\n",
        "    if abs(current_sum) < abs(closest_sum):\n",
        "        closest_sum = current_sum\n",
        "        best_pair = (arr[left], arr[right])\n",
        "\n",
        "    # 합을 조절하여 0에 더 가까워지도록 포인터 이동\n",
        "    if current_sum < 0:\n",
        "        left += 1  # 합을 증가시키기 위해 왼쪽 포인터 이동\n",
        "    else:\n",
        "        right -= 1  # 합을 감소시키기 위해 오른쪽 포인터 이동\n",
        "\n",
        "# 결과 출력\n",
        "print(best_pair[0], best_pair[1])"
      ],
      "metadata": {
        "id": "wwBvVl32aoFG"
      },
      "execution_count": 23,
      "outputs": []
    },
    {
      "cell_type": "code",
      "source": [
        "N = int(input())\n",
        "arr = list(map(int,input().split()))\n",
        "\n",
        "arr.sort()\n",
        "\n",
        "\n",
        "def find_zero(arr,p,N):\n",
        "  if arr[(p + N)//2 -1] < 0 and arr[(p + N)//2] > 0 :\n",
        "    return N//2\n",
        "  elif arr[(p + N)//2 - 1] > 0 and arr[(p + N)//2] > 0 : # 둘 다 양수이면, left에서 찾기\n",
        "    return find_zero(arr,0,(p + N)//2 - 1)\n",
        "  elif arr[N//2 - 1] < 0 and arr[N//2] < 0 : # right에서 찾기\n",
        "    return find_zero(arr,(p + N)//2,N)\n",
        "\n",
        "if arr[0] < 0 and arr[-1] > 0 :\n",
        "  Find_zero = find_zero(arr,0,N) # 0의 위치\n",
        "\n",
        "  case1 =arr[0] + arr[-1] # case 1, 양 끝 값\n",
        "  case2 = arr[Find_zero -1] + arr[Find_zero] # case 2, 0 주변\n",
        "  case3 = arr[Find_zero -1] + arr[Find_zero - 2] # case 3 , 알칼리 2개\n",
        "  case4 = arr[Find_zero] + arr[Find_zero + 1]\n",
        "\n",
        "  min_value = min(abs(case1),abs(case2),abs(case3),case4)\n",
        "  if min_value == abs(case1):\n",
        "    print(arr[0], arr[-1])\n",
        "  elif min_value == abs(case2):\n",
        "    print(arr[Find_zero-1],arr[Find_zero])\n",
        "  elif min_value == abs(case3):\n",
        "    print(arr[Find_zero -1],arr[Find_zero - 2])\n",
        "  elif min_value == case4:\n",
        "    print(arr[Find_zero] + arr[Find_zero + 1])\n",
        "\n",
        "elif arr[0] < 0 and arr[-1] < 0:\n",
        "  print(arr[-2],arr[-1])\n",
        "elif arr[0] > 0 and arr[-1] > 0:\n",
        "  print(arr[0], arr[1])\n",
        ""
      ],
      "metadata": {
        "colab": {
          "base_uri": "https://localhost:8080/"
        },
        "id": "R0KxT5zHab_9",
        "outputId": "88ae6ce5-becd-4209-8abf-c006e7f598cf"
      },
      "execution_count": 25,
      "outputs": [
        {
          "output_type": "stream",
          "name": "stdout",
          "text": [
            "5\n",
            "-2 4 -99 -1 98\n",
            "-99 98\n"
          ]
        }
      ]
    },
    {
      "cell_type": "markdown",
      "source": [
        "## 백준 18114번"
      ],
      "metadata": {
        "id": "9L0Y3gC9Mh4E"
      }
    },
    {
      "cell_type": "code",
      "source": [
        "import sys\n",
        "\n",
        "def binarySearch(start, end, c, weights):\n",
        "    while start <= end:\n",
        "        mid = (start + end) // 2\n",
        "        if weights[mid] == c:\n",
        "            return mid\n",
        "        if weights[mid] < c:\n",
        "            start = mid + 1\n",
        "        else:\n",
        "            end = mid - 1\n",
        "    return -1\n",
        "\n",
        "def event(n, c, weights):\n",
        "    if binarySearch(0, n - 1, c, weights) >= 0:# 고른 물건 1개\n",
        "        return True\n",
        "    i = 0\n",
        "    j = n - 1\n",
        "    while(i < j): # 고른 물건 2개 or 3개\n",
        "        weightSum = weights[i] + weights[j]\n",
        "        if weightSum > c:\n",
        "            j -= 1\n",
        "        elif weightSum == c: # 고른 물건 2개\n",
        "            return True\n",
        "        else:\n",
        "            diff = c- weightSum\n",
        "            if diff != weights[i] and diff != weights[j] and binarySearch(0, n - 1, diff, weights) >= 0:\n",
        "                return True # 고른 물건 3개\n",
        "            i += 1\n",
        "    return False\n",
        "\n",
        "# N : 물건 개수, C : 무게\n",
        "N, C = map(int, sys.stdin.readline().split())\n",
        "\n",
        "# N개의 물건의 무게들\n",
        "weights = list(map(int, sys.stdin.readline().split()))\n",
        "weights.sort()\n",
        "\n",
        "if event(N, C, weights):\n",
        "    print(1)\n",
        "else:\n",
        "    print(0)"
      ],
      "metadata": {
        "id": "1cUkU8xNQZ1e"
      },
      "execution_count": null,
      "outputs": []
    },
    {
      "cell_type": "code",
      "source": [
        "N,M = map(int, input().split())\n",
        "arr = list(map(int,input().split()))\n",
        "\n",
        "arr.sort()\n",
        "\n",
        "min_select2 = arr[0] + arr[1]\n",
        "max_select2 = arr[-2] + arr[-1]\n",
        "min_select3 = arr[0] + arr[1] + arr[2]\n",
        "max_select3 = arr[0] + arr[1] + arr[2]\n",
        "\n",
        "if M < min_select2 or M > max_select2 :\n",
        "  print(-1)\n",
        "elif\n",
        "\n",
        "def solve_2(arr, p, r, M):\n",
        "  if p == r:\n",
        "    return print(0)\n",
        "  elif p > r:\n",
        "    return print(0)\n",
        "\n",
        "  if (arr[p] + arr[r]) == M :\n",
        "    return print(1)\n",
        "  elif (arr[p] + arr[r] ) < M :\n",
        "    return solve_2(arr, p+1,r,M)\n",
        "  elif (arr[p] + arr[r] ) > M :\n",
        "    return solve_2(arr,p,r-1,M)\n",
        "\n",
        "def solve_3(arr,p,r,M):\n",
        "  if M < arr[0] + arr[1] + arr[2] or M > arr[-1] + arr[-2] + arr[-3]:\n",
        "    return print(0)\n",
        "  if p == r:\n",
        "    return print(0)\n",
        "  elif p > r:\n",
        "    return print(0)\n",
        "  min = arr[0] + arr[1] + arr[2]\n",
        "  max = arr[-1] + arr[-2] + arr[-3]\n",
        "\n",
        "  # 세개로 구분해서 찾는다 !\n",
        "  if min(max-M,M-min) == max - M:\n",
        "    # 첫 구분점만 내려\n",
        "    # 중간 구분점만 내려\n",
        "    # 마지막 구분점 내리기\n",
        "\n",
        "\n",
        "  elif min(max-M,M-min) == M - min:\n",
        "\n",
        "\n",
        "\n"
      ],
      "metadata": {
        "colab": {
          "base_uri": "https://localhost:8080/"
        },
        "id": "7RrMcvq3hwcG",
        "outputId": "e3b3dc15-7a2f-4ade-9064-1ab625fb21e3"
      },
      "execution_count": 12,
      "outputs": [
        {
          "name": "stdout",
          "output_type": "stream",
          "text": [
            "5 5\n"
          ]
        },
        {
          "output_type": "execute_result",
          "data": {
            "text/plain": [
              "5"
            ]
          },
          "metadata": {},
          "execution_count": 12
        }
      ]
    },
    {
      "cell_type": "code",
      "source": [
        "def solve_2(arr, p, r, M):\n",
        "  if p == r:\n",
        "    return print(0)\n",
        "  elif p > r:\n",
        "    return print(0)\n",
        "\n",
        "  if (arr[p] + arr[r]) == M :\n",
        "    return print(1)\n",
        "  elif (arr[p] + arr[r] ) < M :\n",
        "    return solve_2(arr, p+1,r,M)\n",
        "  elif (arr[p] + arr[r] ) > M :\n",
        "    return solve_2(arr,p,r-1,M)\n",
        "\n",
        "arr = [1,2,3,5,6]\n",
        "solve_2(arr,0,4,5)\n",
        "\n",
        "# def solve_3(arr,p,r,M):\n"
      ],
      "metadata": {
        "colab": {
          "base_uri": "https://localhost:8080/"
        },
        "id": "Oq4ln_yNMznR",
        "outputId": "7905ac0e-2c26-4615-96dc-a0bcf122ca7f"
      },
      "execution_count": 16,
      "outputs": [
        {
          "output_type": "stream",
          "name": "stdout",
          "text": [
            "1\n"
          ]
        }
      ]
    }
  ]
}