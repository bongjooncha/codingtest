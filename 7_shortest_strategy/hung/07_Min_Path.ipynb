{
  "nbformat": 4,
  "nbformat_minor": 0,
  "metadata": {
    "colab": {
      "provenance": [],
      "authorship_tag": "ABX9TyOe5cSq+sTiprA+J42Wtd1x",
      "include_colab_link": true
    },
    "kernelspec": {
      "name": "python3",
      "display_name": "Python 3"
    },
    "language_info": {
      "name": "python"
    }
  },
  "cells": [
    {
      "cell_type": "markdown",
      "metadata": {
        "id": "view-in-github",
        "colab_type": "text"
      },
      "source": [
        "<a href=\"https://colab.research.google.com/github/bongjooncha/codingtest/blob/master/7_shortest_strategy/hung/07_Min_Path.ipynb\" target=\"_parent\"><img src=\"https://colab.research.google.com/assets/colab-badge.svg\" alt=\"Open In Colab\"/></a>"
      ]
    },
    {
      "cell_type": "code",
      "source": [
        "import heapq\n",
        "\n",
        "def solution(n, s, a, b, fares):\n",
        "    # Initialize graph\n",
        "    graph = [[] for _ in range(n + 1)]\n",
        "    for c, d, f in fares:\n",
        "        graph[c].append((d, f))\n",
        "        graph[d].append((c, f))\n",
        "\n",
        "    # Dijkstra's algorithm\n",
        "    def dijkstra(start):\n",
        "        distances = [float('inf')] * (n + 1)\n",
        "        distances[start] = 0\n",
        "        pq = [(0, start)]\n",
        "        while pq:\n",
        "            current_distance, current_node = heapq.heappop(pq)\n",
        "            if current_distance > distances[current_node]:\n",
        "                continue\n",
        "            for neighbor, weight in graph[current_node]:\n",
        "                distance = current_distance + weight\n",
        "                if distance < distances[neighbor]:\n",
        "                    distances[neighbor] = distance\n",
        "                    heapq.heappush(pq, (distance, neighbor))\n",
        "        return distances\n",
        "\n",
        "    # Compute shortest paths from s, a, b\n",
        "    dist_from_s = dijkstra(s)\n",
        "    dist_from_a = dijkstra(a)\n",
        "    dist_from_b = dijkstra(b)\n",
        "\n",
        "    # Find minimum cost\n",
        "    min_cost = float('inf')\n",
        "    for t in range(1, n + 1):\n",
        "        min_cost = min(min_cost, dist_from_s[t] + dist_from_a[t] + dist_from_b[t])\n",
        "\n",
        "    return min_cost\n"
      ],
      "metadata": {
        "id": "Ltfj7GfLd2tB"
      },
      "execution_count": null,
      "outputs": []
    },
    {
      "cell_type": "markdown",
      "source": [
        "## 백준 18352번"
      ],
      "metadata": {
        "id": "rvUlzNKef90P"
      }
    },
    {
      "cell_type": "code",
      "execution_count": null,
      "metadata": {
        "id": "5FTT8W2xdw7Y"
      },
      "outputs": [],
      "source": [
        "from collections import deque\n",
        "\n",
        "def find_cities_at_distance_k(N, M, K, X, roads):\n",
        "    graph = [[] for _ in range(N + 1)]\n",
        "\n",
        "    # 그래프 생성\n",
        "    for A, B in roads:\n",
        "        graph[A].append(B)\n",
        "\n",
        "    # 거리 리스트 초기화\n",
        "    distance = [-1] * (N + 1)\n",
        "    distance[X] = 0\n",
        "\n",
        "    # BFS 초기 설정\n",
        "    queue = deque([X])\n",
        "\n",
        "    while queue:\n",
        "        current_city = queue.popleft()\n",
        "\n",
        "        # 현재 도시에서 이동 가능한 모든 도시 확인\n",
        "        for next_city in graph[current_city]:\n",
        "            if distance[next_city] == -1:\n",
        "                distance[next_city] = distance[current_city] + 1\n",
        "                queue.append(next_city)\n",
        "\n",
        "    # 최단 거리가 K인 모든 도시 찾기\n",
        "    result = [city for city in range(1, N + 1) if distance[city] == K]\n",
        "\n",
        "    # 결과 출력\n",
        "    if result:\n",
        "        for city in sorted(result):\n",
        "            print(city)\n",
        "    else:\n",
        "        print(-1)\n",
        "\n",
        "# 입력 처리\n",
        "N, M, K, X = map(int, input().split())\n",
        "roads = [tuple(map(int, input().split())) for _ in range(M)]\n",
        "\n",
        "# 함수 호출\n",
        "find_cities_at_distance_k(N, M, K, X, roads)"
      ]
    }
  ]
}