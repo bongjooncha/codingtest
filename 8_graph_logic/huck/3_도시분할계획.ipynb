{
 "cells": [
  {
   "cell_type": "markdown",
   "metadata": {},
   "source": [
    "이 문제의 핵심은 최소 신장 트리를 두 가지로 나누는 것       \n",
    "\n",
    "=> 가중치가 제일 큰 간선을 없에면 된다"
   ]
  },
  {
   "cell_type": "code",
   "execution_count": null,
   "metadata": {},
   "outputs": [],
   "source": [
    "#특정 원소가 속한 집합을 찾기\n",
    "def find_parent(parent, x):\n",
    "    #루트 노드가 아니라면, 루트 노드를 찾을 때까지 재귀적으로 호출\n",
    "    if parent[x]!=x:\n",
    "        parent[x] = find_parent(parent, parent[x])\n",
    "    return parent[x]\n",
    "\n",
    "#두 원소가 속한 집합 합치기\n",
    "def union_parent(parent, a, b):\n",
    "    a = find_parent(parent, a)\n",
    "    b = find_parent(parent, b)\n",
    "    #숫자가 더 작은 노드가 부모가 된다\n",
    "    if a < b:\n",
    "        parent[b] = a\n",
    "    else:\n",
    "        parent[a] = b\n",
    "\n",
    "N,M = map(int, input().split())\n",
    "parent = [0]*(N+1)\n",
    "\n",
    "edges = []\n",
    "result = 0\n",
    "big_edge = 0\n",
    "\n",
    "#부모를 자기 자신으로 초기화\n",
    "for i in range(1, N+1):\n",
    "    parent[i] = i\n",
    "\n",
    "#간선에 대한 비용 입력받기, 비용순으로 정렬하기 위해 튜플의 첫 번째 원소를 비용으로 설정\n",
    "for _ in range(M):\n",
    "    a,b,c = map(int, input().split())\n",
    "    edges.append((c, a, b))\n",
    "\n",
    "edges.sort()\n",
    "for edge in edges:\n",
    "    c, a, b = edge\n",
    "    #사이클이 발생하지 않는다면\n",
    "    if find_parent(parent, a)!=find_parent(parent, b):\n",
    "        union_parent(parent, a, b)\n",
    "        result += c\n",
    "        big_edge = c"
   ]
  }
 ],
 "metadata": {
  "language_info": {
   "name": "python"
  }
 },
 "nbformat": 4,
 "nbformat_minor": 2
}
