{
 "cells": [
  {
   "cell_type": "code",
   "execution_count": null,
   "metadata": {},
   "outputs": [],
   "source": [
    "N,M = map(int, input().split())\n",
    "parent = [0]*(N+1)\n",
    "\n",
    "#특정 원소가 속한 집합을 찾기\n",
    "def find_parent(parent, x):\n",
    "    #루트 노드가 아니라면, 루트 노드를 찾을 때까지 재귀적으로 호출\n",
    "    if parent[x]!=x:\n",
    "        parent[x] = find_parent(parent, parent[x])\n",
    "    return parent[x]\n",
    "\n",
    "#두 원소가 속한 집합 합치기\n",
    "def union_parent(parent, a, b):\n",
    "    a = find_parent(parent, a)\n",
    "    b = find_parent(parent, b)\n",
    "    #숫자가 더 작은 노드가 부모가 된다\n",
    "    if a < b:\n",
    "        parent[b] = a\n",
    "    else:\n",
    "        parent[a] = b\n",
    "\n",
    "for i in range(1,N+1):\n",
    "    parent[i] = i\n",
    "\n",
    "for _ in range(M):\n",
    "    c,a,b = map(int, input().split())\n",
    "    \n",
    "    if c == 0:\n",
    "        union_parent(parent, a,b)\n",
    "    elif c == 1:\n",
    "        if find_parent(parent, a) == find_parent(parent, b):\n",
    "            print(\"YES\")\n",
    "        else:\n",
    "            print(\"NO\")"
   ]
  }
 ],
 "metadata": {
  "language_info": {
   "name": "python"
  }
 },
 "nbformat": 4,
 "nbformat_minor": 2
}
