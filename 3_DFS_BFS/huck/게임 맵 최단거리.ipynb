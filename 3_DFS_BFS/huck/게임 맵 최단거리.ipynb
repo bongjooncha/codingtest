{
 "cells": [
  {
   "cell_type": "markdown",
   "metadata": {},
   "source": [
    "#### 최단 거리 문제의 종류\n",
    "1. **가중치 X, 가중치 0 or 1**\n",
    "    - **BFS**(DFS에 비해 효율적)\n",
    "2. **가중치 여러 개**\n",
    "    - **다익스트라**(그리디 하기 때문)"
   ]
  },
  {
   "cell_type": "code",
   "execution_count": 13,
   "metadata": {},
   "outputs": [],
   "source": [
    "from collections import deque\n",
    "\n",
    "def solution(maps):\n",
    "    # Y : maps의 열 수 / X : maps의 행 수\n",
    "    # 일반적으로는 y를 행 x를 열로 두는데 전 그냥 이렇게 해버렸네요..ㅎ\n",
    "    Y = len(maps)\n",
    "    X = len(maps[0])\n",
    "\n",
    "    # 밑의 과정은 Part2의 미로 탈출 문제와 유사한 풀이입니당\n",
    "    # 밑에 return 하는 게 추가 되는데 상대 진영에 도달한다고 했을 때 기존 1이 아닌 경로가 추가된 값이 저장되므로\n",
    "    # 상대 진영의 인덱스에 해당하는 값이 1인 경우는 도달하지 못한 것 1이 아닌 경우는 도달하여서 그대로 값을 return\n",
    "    def BFS():\n",
    "        que = deque()\n",
    "        que.append((0,0))\n",
    "\n",
    "        dy=[0,0,1,-1]\n",
    "        dx=[1,-1,0,0]\n",
    "\n",
    "        while que:\n",
    "            y, x = que.popleft()\n",
    "            for i in range(4):\n",
    "                ny = y + dy[i]\n",
    "                nx = x + dx[i]\n",
    "\n",
    "                if nx<0 or nx>=X or ny<0 or ny>=Y:\n",
    "                    continue\n",
    "                else:\n",
    "                    if maps[ny][nx] == 0:\n",
    "                        continue\n",
    "                    if maps[ny][nx] == 1:\n",
    "                        que.append((ny,nx))\n",
    "                        maps[ny][nx] = maps[y][x] + 1\n",
    "        if maps[Y-1][X-1] != 1:\n",
    "            return maps[Y-1][X-1]\n",
    "        else:\n",
    "            return -1\n",
    "\n",
    "    return BFS()"
   ]
  },
  {
   "cell_type": "code",
   "execution_count": 17,
   "metadata": {},
   "outputs": [],
   "source": [
    "map1 = [[1,0,1,1,1],[1,0,1,0,1],[1,0,1,1,1],[1,1,1,0,1],[0,0,0,0,1]]\n",
    "map2 = [[1,0,1,1,1],[1,0,1,0,1],[1,0,1,1,1],[1,1,1,0,0],[0,0,0,0,1]]"
   ]
  },
  {
   "cell_type": "code",
   "execution_count": 18,
   "metadata": {},
   "outputs": [
    {
     "name": "stdout",
     "output_type": "stream",
     "text": [
      "11\n"
     ]
    }
   ],
   "source": [
    "print(solution(map1))"
   ]
  },
  {
   "cell_type": "code",
   "execution_count": 19,
   "metadata": {},
   "outputs": [
    {
     "name": "stdout",
     "output_type": "stream",
     "text": [
      "-1\n"
     ]
    }
   ],
   "source": [
    "print(solution(map2))"
   ]
  }
 ],
 "metadata": {
  "kernelspec": {
   "display_name": "Python 3",
   "language": "python",
   "name": "python3"
  },
  "language_info": {
   "codemirror_mode": {
    "name": "ipython",
    "version": 3
   },
   "file_extension": ".py",
   "mimetype": "text/x-python",
   "name": "python",
   "nbconvert_exporter": "python",
   "pygments_lexer": "ipython3",
   "version": "3.10.2"
  }
 },
 "nbformat": 4,
 "nbformat_minor": 2
}
