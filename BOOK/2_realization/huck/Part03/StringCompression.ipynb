{
 "cells": [
  {
   "cell_type": "code",
   "execution_count": 96,
   "metadata": {},
   "outputs": [
    {
     "name": "stdout",
     "output_type": "stream",
     "text": [
      "7\n"
     ]
    }
   ],
   "source": [
    "def solution(s):\n",
    "    # 빈 문자열 처리\n",
    "    if not s:\n",
    "        return 0\n",
    "    \n",
    "    total = []       # 전체 결과 저장\n",
    "    minlen = len(s)\n",
    "    cnt = 1\n",
    "\n",
    "    # 겹치지 않는 게 나올 때까지 반복\n",
    "    for i in range(1,len(s)//2+1):          # 압축 단위 길이\n",
    "        result = \"\"                         # 단일 결과 저장\n",
    "\n",
    "        for j in range(0,len(s),i):\n",
    "            if s[j:j+i] == s[j+i:j+2*i]:\n",
    "                cnt += 1\n",
    "            else:\n",
    "                if cnt == 1:\n",
    "                    cnt=\"\"\n",
    "                result+=str(cnt)+s[j:j+i]\n",
    "                cnt=1\n",
    "        total.append(len(result))\n",
    "\n",
    "    return min(minlen, min(total))"
   ]
  }
 ],
 "metadata": {
  "kernelspec": {
   "display_name": "Python 3",
   "language": "python",
   "name": "python3"
  },
  "language_info": {
   "codemirror_mode": {
    "name": "ipython",
    "version": 3
   },
   "file_extension": ".py",
   "mimetype": "text/x-python",
   "name": "python",
   "nbconvert_exporter": "python",
   "pygments_lexer": "ipython3",
   "version": "3.10.2"
  }
 },
 "nbformat": 4,
 "nbformat_minor": 2
}
