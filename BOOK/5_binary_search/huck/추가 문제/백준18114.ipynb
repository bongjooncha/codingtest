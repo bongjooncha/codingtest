{
 "cells": [
  {
   "cell_type": "code",
   "execution_count": 2,
   "metadata": {},
   "outputs": [],
   "source": [
    "import sys\n",
    "input = sys.stdin.readline\n",
    "N, C = map(int, input().split())\n",
    "weights = list(map(int, input().split()))"
   ]
  },
  {
   "cell_type": "code",
   "execution_count": 3,
   "metadata": {},
   "outputs": [
    {
     "name": "stdout",
     "output_type": "stream",
     "text": [
      "1\n"
     ]
    }
   ],
   "source": [
    "# 문제의 조건을 만족하는 조합이 있으면 1, 그렇지 않으면 0을 출력한다.\n",
    "weights.sort()\n",
    "\n",
    "def Bsearch(left, right, tar):\n",
    "    while left <= right:\n",
    "        mid = (left+right)//2\n",
    "        if weights[mid] < tar:\n",
    "            left = mid+1\n",
    "        elif weights[mid] ==tar:\n",
    "            return 1\n",
    "        else: \n",
    "            right = mid-1\n",
    "    return 0\n",
    "\n",
    "\n",
    "def check():\n",
    "    # 요소 1개\n",
    "    if C in weights:\n",
    "        return 1\n",
    "    # 요소 2개\n",
    "    start = 0\n",
    "    end = N-1\n",
    "    while start < end:\n",
    "        total = weights[start]+weights[end]\n",
    "        if total > C:\n",
    "            end -= 1\n",
    "        elif total == C:\n",
    "            return 1\n",
    "        # C보다 total이 작다면 start 범주 줄이기(요소 2개) or total-C 찾기(요소 3개)\n",
    "        else:\n",
    "            target = C-total\n",
    "            # 요소 3개를 찾으면 중단해도 좋음\n",
    "            if target != weights[start] and target != weights[end] and Bsearch(start, end, target):\n",
    "                return 1\n",
    "            # 요소 3개도 못찾으니 2개부터 다시 알아보자\n",
    "            start += 1\n",
    "    return 0\n",
    "\n",
    "print(check())"
   ]
  }
 ],
 "metadata": {
  "kernelspec": {
   "display_name": "Python 3",
   "language": "python",
   "name": "python3"
  },
  "language_info": {
   "codemirror_mode": {
    "name": "ipython",
    "version": 3
   },
   "file_extension": ".py",
   "mimetype": "text/x-python",
   "name": "python",
   "nbconvert_exporter": "python",
   "pygments_lexer": "ipython3",
   "version": "3.10.2"
  }
 },
 "nbformat": 4,
 "nbformat_minor": 2
}
