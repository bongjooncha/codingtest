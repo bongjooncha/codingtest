{
 "cells": [
  {
   "cell_type": "markdown",
   "metadata": {},
   "source": [
    "### SOL for 런타임 에러 (RecursionError)\n",
    "https://help.acmicpc.net/judge/rte/RecursionError"
   ]
  },
  {
   "cell_type": "markdown",
   "metadata": {},
   "source": [
    "#### 아래 코드의 재귀 호출은 몇 번일까요?"
   ]
  },
  {
   "cell_type": "code",
   "execution_count": null,
   "metadata": {},
   "outputs": [],
   "source": [
    "def calc(n):\n",
    "    if n == 0:\n",
    "        return 0\n",
    "    else:\n",
    "        return n + calc(n-1)\n",
    "\n",
    "n = int(input())\n",
    "print(calc(n))"
   ]
  },
  {
   "cell_type": "code",
   "execution_count": 1,
   "metadata": {},
   "outputs": [
    {
     "data": {
      "text/plain": [
       "3000"
      ]
     },
     "execution_count": 1,
     "metadata": {},
     "output_type": "execute_result"
    }
   ],
   "source": [
    "import sys\n",
    "sys.getrecursionlimit()"
   ]
  },
  {
   "cell_type": "code",
   "execution_count": null,
   "metadata": {},
   "outputs": [
    {
     "name": "stdout",
     "output_type": "stream",
     "text": [
      "3\n",
      "7\n"
     ]
    }
   ],
   "source": [
    "sys.setrecursionlimit(1002)\n",
    "\n",
    "t = int(input())\n",
    "\n",
    "# n+1\n",
    "def cycle(i, list, ans):\n",
    "    if list[i] == 0:\n",
    "        ans += 1\n",
    "        return ans\n",
    "    elif list[i] !=0:\n",
    "        k = list[i] - 1\n",
    "        list[i] = 0\n",
    "        return cycle(k,list,ans)\n",
    "\n",
    "def sol(n,list):\n",
    "    ans = 0\n",
    "    for i in range(n):\n",
    "        if list[i]==0:\n",
    "            continue\n",
    "        else:\n",
    "            # +1\n",
    "            ans = cycle(i, list, ans)\n",
    "    return ans\n",
    "\n",
    "for _ in range(t):\n",
    "    n=int(input())\n",
    "    nlist = list(map(int, input().split()))\n",
    "    print(sol(n,nlist))"
   ]
  }
 ],
 "metadata": {
  "kernelspec": {
   "display_name": "Python 3",
   "language": "python",
   "name": "python3"
  },
  "language_info": {
   "codemirror_mode": {
    "name": "ipython",
    "version": 3
   },
   "file_extension": ".py",
   "mimetype": "text/x-python",
   "name": "python",
   "nbconvert_exporter": "python",
   "pygments_lexer": "ipython3",
   "version": "3.10.2"
  }
 },
 "nbformat": 4,
 "nbformat_minor": 2
}
