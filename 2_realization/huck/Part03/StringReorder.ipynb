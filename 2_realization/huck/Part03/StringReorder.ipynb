{
 "cells": [
  {
   "cell_type": "code",
   "execution_count": null,
   "metadata": {},
   "outputs": [],
   "source": [
    "S = input()\n",
    "S=''.join(sorted(S))     # 문자열 리스트로 정렬 후 문자열(띄어쓰기 없이)로 만들기\n",
    "result = []\n",
    "\n",
    "num = 0\n",
    "\n",
    "for s in S:\n",
    "    #\n",
    "    if s.isdigit():\n",
    "        num += int(s)\n",
    "    else:\n",
    "        result.append(s)\n",
    "if num != 0:\n",
    "    result.append(str(num))\n",
    "\n",
    "print(''.join(result))"
   ]
  }
 ],
 "metadata": {
  "language_info": {
   "name": "python"
  }
 },
 "nbformat": 4,
 "nbformat_minor": 2
}
