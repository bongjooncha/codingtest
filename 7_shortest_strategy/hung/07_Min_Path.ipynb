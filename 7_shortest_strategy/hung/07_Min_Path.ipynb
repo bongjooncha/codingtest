{
  "nbformat": 4,
  "nbformat_minor": 0,
  "metadata": {
    "colab": {
      "provenance": [],
      "authorship_tag": "ABX9TyPq5koyvxfBysOnlFt0gPqu",
      "include_colab_link": true
    },
    "kernelspec": {
      "name": "python3",
      "display_name": "Python 3"
    },
    "language_info": {
      "name": "python"
    }
  },
  "cells": [
    {
      "cell_type": "markdown",
      "metadata": {
        "id": "view-in-github",
        "colab_type": "text"
      },
      "source": [
        "<a href=\"https://colab.research.google.com/github/bongjooncha/codingtest/blob/master/7_shortest_strategy/hung/07_Min_Path.ipynb\" target=\"_parent\"><img src=\"https://colab.research.google.com/assets/colab-badge.svg\" alt=\"Open In Colab\"/></a>"
      ]
    },
    {
      "cell_type": "markdown",
      "source": [
        "## 교재 2번"
      ],
      "metadata": {
        "id": "3dMhibjeDA2b"
      }
    },
    {
      "cell_type": "code",
      "source": [
        "INF = int(1e9)  # 무한을 의미하는 값으로 10억을 설정\n",
        "\n",
        "# 노드의 개수 및 간선의 개수를 입력받기\n",
        "n, m = map(int, input().split())\n",
        "\n",
        "# 2차원 리스트(그래프 표현)를 만들고, 모든 값을 무한으로 초기화\n",
        "graph = [[INF] * (n + 1) for _ in range(n + 1)]\n",
        "\n",
        "# 자기 자신에서 자기 자신으로 가는 비용은 0으로 초기화\n",
        "for a in range(1, n + 1):\n",
        "    for b in range(1, n + 1):\n",
        "        if a == b:\n",
        "            graph[a][b] = 0\n",
        "\n",
        "# 각 간선에 대한 정보를 입력받아, 그 값으로 초기화\n",
        "for _ in range(m):\n",
        "    # A와 B가 서로에게 가는 비용은 1이라고 설정\n",
        "    a, b = map(int, input().split())\n",
        "    graph[a][b] = 1\n",
        "    graph[b][a] = 1\n",
        "\n",
        "# 거쳐 갈 노드 X와 최종 목적지 노드 K를 입력받기\n",
        "x, k = map(int, input().split())\n",
        "\n",
        "# 점화식에 따라 플로이드 워셜 알고리즘을 수행\n",
        "for k in range(1, n + 1):\n",
        "    for a in range(1, n + 1):\n",
        "        for b in range(1, n + 1):\n",
        "            graph[a][b] = min(graph[a][b], graph[a][k] + graph[k][b])\n",
        "\n",
        "# 수행된 결과를 출력\n",
        "distance = graph[1][k] + graph[k][x]\n",
        "\n",
        "# 도달할 수 없는 경우, -1을 출력\n",
        "if distance >= INF:\n",
        "    print(\"-1\")\n",
        "# 도달할 수 있다면, 최단 거리를 출력\n",
        "else:\n",
        "    print(distance)"
      ],
      "metadata": {
        "colab": {
          "base_uri": "https://localhost:8080/"
        },
        "id": "K5tniB_NC-it",
        "outputId": "77f0b71f-8578-4196-d813-fe560d4d0d64"
      },
      "execution_count": null,
      "outputs": [
        {
          "output_type": "stream",
          "name": "stdout",
          "text": [
            "4 2\n",
            "1 3\n",
            "2 4\n",
            "3 4\n",
            "-1\n"
          ]
        }
      ]
    },
    {
      "cell_type": "markdown",
      "source": [
        "## 3번"
      ],
      "metadata": {
        "id": "sDs_UE3zDHPg"
      }
    },
    {
      "cell_type": "code",
      "source": [
        "import heapq\n",
        "\n",
        "INF = int(1e9)  # 무한을 의미하는 값으로 10억을 설정\n",
        "\n",
        "def dijkstra(start, graph, n):\n",
        "    distance = [INF] * (n + 1)\n",
        "    distance[start] = 0\n",
        "    q = [(0, start)]\n",
        "    while q:\n",
        "        dist, now = heapq.heappop(q)\n",
        "        if distance[now] < dist:\n",
        "            continue\n",
        "        for next_node, next_dist in graph[now]:\n",
        "            cost = dist + next_dist\n",
        "            if cost < distance[next_node]:\n",
        "                distance[next_node] = cost\n",
        "                heapq.heappush(q, (cost, next_node))\n",
        "    return distance\n",
        "\n",
        "def main():\n",
        "    # 예제 입력 데이터를 직접 사용\n",
        "    data = \"\"\"3 2 1\n",
        "1 2 4\n",
        "1 3 2\"\"\"\n",
        "    input = iter(data.split('\\n')).__next__\n",
        "\n",
        "    n, m, c = map(int, input().split())\n",
        "    graph = [[] for _ in range(n + 1)]\n",
        "    for _ in range(m):\n",
        "        x, y, z = map(int, input().split())\n",
        "        graph[x].append((y, z))\n",
        "\n",
        "    distance = dijkstra(c, graph, n)\n",
        "\n",
        "    count = 0\n",
        "    max_distance = 0\n",
        "    for d in distance:\n",
        "        if d != INF:\n",
        "            count += 1\n",
        "            max_distance = max(max_distance, d)\n",
        "\n",
        "    # 시작 도시를 제외해야 하므로 count - 1을 출력\n",
        "    print(count - 1, max_distance)\n",
        "\n",
        "if __name__ == \"__main__\":\n",
        "    main()"
      ],
      "metadata": {
        "colab": {
          "base_uri": "https://localhost:8080/"
        },
        "id": "LjujFAwyDGvo",
        "outputId": "7e953772-5a57-49d6-80fb-25395a3c1651"
      },
      "execution_count": null,
      "outputs": [
        {
          "output_type": "stream",
          "name": "stdout",
          "text": [
            "2 4\n"
          ]
        }
      ]
    },
    {
      "cell_type": "markdown",
      "source": [
        "## 프로그래머스"
      ],
      "metadata": {
        "id": "iEA34OICC8Qs"
      }
    },
    {
      "cell_type": "code",
      "source": [
        "import sys, heapq\n",
        "\n",
        "def solution(n, s, a, b, fares):\n",
        "    INF = sys.maxsize\n",
        "\n",
        "    # 문제에서 주어진 fares를 인접리스트 형태로 바꿈\n",
        "    maps = [[] for _ in range(n+1)]\n",
        "    for v,u,c in fares:\n",
        "        maps[v].append((u, c))\n",
        "        maps[u].append((v, c))\n",
        "\n",
        "    # 다익스트라 알고리즘으로 구현\n",
        "    def dijkstra(start):\n",
        "        distance = [INF] * (n+1)\n",
        "        distance[start] = 0\n",
        "        que = [(0, start)]\n",
        "\n",
        "        while que:\n",
        "            cur_dist, cur_node = heapq.heappop(que)\n",
        "\n",
        "            if distance[cur_node] < cur_dist:\n",
        "                continue\n",
        "\n",
        "            for next_node, next_dist in maps[cur_node]:\n",
        "                if distance[next_node] > cur_dist + next_dist:\n",
        "                    distance[next_node] = cur_dist + next_dist\n",
        "                    heapq.heappush(que, (cur_dist + next_dist, next_node))\n",
        "        return distance\n",
        "\n",
        "    # i번째(특정 노드)에서 시작해서 모든 정점으로 도착하는 최단거리를 미리 구함\n",
        "    D = [0] + [dijkstra(i) for i in range(1, n+1)]\n",
        "    path = INF\n",
        "    for i in range(1, n+1):\n",
        "        path = min(path, D[s][i] + D[i][a] + D[i][b])\n",
        "\n",
        "    return path"
      ],
      "metadata": {
        "id": "dtZj-rnitEfr"
      },
      "execution_count": 13,
      "outputs": []
    },
    {
      "cell_type": "markdown",
      "source": [
        "## 백준 18352번"
      ],
      "metadata": {
        "id": "rvUlzNKef90P"
      }
    },
    {
      "cell_type": "code",
      "execution_count": null,
      "metadata": {
        "id": "5FTT8W2xdw7Y"
      },
      "outputs": [],
      "source": [
        "from collections import deque\n",
        "\n",
        "def find_cities_at_distance_k(N, M, K, X, roads):\n",
        "    graph = [[] for _ in range(N + 1)]\n",
        "\n",
        "    # 그래프 생성\n",
        "    for A, B in roads:\n",
        "        graph[A].append(B)\n",
        "\n",
        "    # 거리 리스트 초기화\n",
        "    distance = [-1] * (N + 1)\n",
        "    distance[X] = 0\n",
        "\n",
        "    # BFS 초기 설정\n",
        "    queue = deque([X])\n",
        "\n",
        "    while queue:\n",
        "        current_city = queue.popleft()\n",
        "\n",
        "        # 현재 도시에서 이동 가능한 모든 도시 확인\n",
        "        for next_city in graph[current_city]:\n",
        "            if distance[next_city] == -1:\n",
        "                distance[next_city] = distance[current_city] + 1\n",
        "                queue.append(next_city)\n",
        "\n",
        "    # 최단 거리가 K인 모든 도시 찾기\n",
        "    result = [city for city in range(1, N + 1) if distance[city] == K]\n",
        "\n",
        "    # 결과 출력\n",
        "    if result:\n",
        "        for city in sorted(result):\n",
        "            print(city)\n",
        "    else:\n",
        "        print(-1)\n",
        "\n",
        "# 입력 처리\n",
        "N, M, K, X = map(int, input().split())\n",
        "roads = [tuple(map(int, input().split())) for _ in range(M)]\n",
        "\n",
        "# 함수 호출\n",
        "find_cities_at_distance_k(N, M, K, X, roads)"
      ]
    },
    {
      "cell_type": "code",
      "source": [
        "import sys\n",
        "n = 7\n",
        "INF = sys.maxsize\n",
        "distance = [INF] * (n+1)\n",
        "\n",
        "distance"
      ],
      "metadata": {
        "colab": {
          "base_uri": "https://localhost:8080/"
        },
        "id": "eCEOD6eltANB",
        "outputId": "4da69af2-2d36-4e80-a444-5149b342a8b8"
      },
      "execution_count": 2,
      "outputs": [
        {
          "output_type": "execute_result",
          "data": {
            "text/plain": [
              "[9223372036854775807,\n",
              " 9223372036854775807,\n",
              " 9223372036854775807,\n",
              " 9223372036854775807,\n",
              " 9223372036854775807,\n",
              " 9223372036854775807,\n",
              " 9223372036854775807,\n",
              " 9223372036854775807]"
            ]
          },
          "metadata": {},
          "execution_count": 2
        }
      ]
    },
    {
      "cell_type": "code",
      "source": [],
      "metadata": {
        "id": "97M67UwnuiD8"
      },
      "execution_count": null,
      "outputs": []
    }
  ]
}